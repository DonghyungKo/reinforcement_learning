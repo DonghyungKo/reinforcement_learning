{
 "cells": [
  {
   "cell_type": "code",
   "execution_count": 1,
   "metadata": {},
   "outputs": [],
   "source": [
    "import gym\n",
    "import numpy as np\n",
    "import matplotlib.pyplot as plt\n",
    "from gym.envs.registration import register\n",
    "import random"
   ]
  },
  {
   "cell_type": "code",
   "execution_count": 2,
   "metadata": {},
   "outputs": [],
   "source": [
    "env = gym.make('CartPole-v0')\n",
    "env = env.unwrapped"
   ]
  },
  {
   "cell_type": "code",
   "execution_count": 3,
   "metadata": {},
   "outputs": [],
   "source": [
    "from collections import deque\n",
    "import random \n",
    "\n",
    "class ReplayMemory(object):\n",
    "    def __init__(self, capacity):\n",
    "        self.deque = deque(maxlen=capacity)\n",
    "\n",
    "    def append(self, state, action, reward, next_state, done):\n",
    "        if np.ndim(state) and np.ndim(next_state) == 1:\n",
    "            state = np.expand_dims(state, 0)\n",
    "            next_state = np.expand_dims(next_state, 0)\n",
    "            \n",
    "        self.deque.append((state, action, reward, next_state, done))\n",
    "    \n",
    "    def sample(self, batch_size):\n",
    "        state, action, reward, next_state, done = zip(*random.sample(self.deque, batch_size))\n",
    "        return np.concatenate(state), action, reward, np.concatenate(next_state), done\n",
    "    \n",
    "    def pop_episode(self):\n",
    "        state, action, reward, next_state, done = zip(*[self.deque.popleft() for _ in range(len(self))])\n",
    "        return np.concatenate(state), action, reward, np.concatenate(next_state), done\n",
    "    \n",
    "    def reset(self):\n",
    "        [self.deque.pop() for _ in range(len(self))]\n",
    "        return\n",
    "        \n",
    "    def __len__(self):\n",
    "        return len(self.deque)"
   ]
  },
  {
   "cell_type": "markdown",
   "metadata": {},
   "source": [
    "# Policy Gradient"
   ]
  },
  {
   "cell_type": "code",
   "execution_count": 4,
   "metadata": {},
   "outputs": [],
   "source": [
    "import numpy as np\n",
    "import torch\n",
    "import torch.nn as nn"
   ]
  },
  {
   "cell_type": "code",
   "execution_count": 176,
   "metadata": {},
   "outputs": [],
   "source": [
    "class ActorCritic(nn.Module):\n",
    "    def __init__(self, input_dim, hidden_dim, output_dim):\n",
    "        super(ActorCritic, self).__init__()     \n",
    "        self.input_dim = input_dim\n",
    "        self.hidden_dim = hidden_dim\n",
    "        self.output_dim = output_dim\n",
    "        \n",
    "        self.feature_stream = nn.Sequential(\n",
    "            nn.Linear(input_dim, hidden_dim), nn.ReLU(),\n",
    "            nn.Linear(hidden_dim, hidden_dim),\n",
    "        )\n",
    "        \n",
    "        self.actor_lin = nn.Linear(hidden_dim, output_dim)\n",
    "        self.critic_lin = nn.Linear(hidden_dim, 1)\n",
    "        \n",
    "    def to_tensor(self, x):\n",
    "        return torch.tensor(x, dtype=torch.float)\n",
    "    \n",
    "    def forward(self, state):\n",
    "        if type(state) != torch.tensor:\n",
    "            state = self.to_tensor(state)\n",
    "        \n",
    "        if state.dim() == 1:\n",
    "            state.unsqueeze_(0)\n",
    "        \n",
    "        feature = self.feature_stream(state)\n",
    "        \n",
    "        action_prob = self.actor_lin(feature)\n",
    "        action_prob = torch.softmax(action_prob, dim=-1)\n",
    "        advantage = self.critic_lin(feature).squeeze(1) # dim=1\n",
    "        return action_prob, advantage"
   ]
  },
  {
   "cell_type": "code",
   "execution_count": 179,
   "metadata": {},
   "outputs": [],
   "source": [
    "input_dim = 4\n",
    "hidden_dim = 64\n",
    "out_dim = env.action_space.n"
   ]
  },
  {
   "cell_type": "code",
   "execution_count": 180,
   "metadata": {},
   "outputs": [],
   "source": [
    "actor_critic = ActorCritic(input_dim, hidden_dim, out_dim)"
   ]
  },
  {
   "cell_type": "code",
   "execution_count": 188,
   "metadata": {},
   "outputs": [],
   "source": [
    "class Fitter():\n",
    "    def __init__(self, actor_critic):\n",
    "        self.actor_critic = actor_critic\n",
    "        self.gamma = 0.99\n",
    "        self.lr = 0.01\n",
    "        self.optim = torch.optim.Adam(self.actor_critic.parameters(), lr=self.lr)\n",
    "        self.replay_memory = ReplayMemory(capacity=10000)\n",
    "        \n",
    "    def run_episode(self, n_episode):\n",
    "        for i in range(n_episode):\n",
    "            # reset episode\n",
    "            s = env.reset()\n",
    "            r_sum = 0\n",
    "\n",
    "            done = False\n",
    "            while not done:\n",
    "                a_prob, adv = self.actor_critic(s) # pi(a|s)\n",
    "                a_dist = torch.distributions.Categorical(a_prob) # pi(a|s)\n",
    "                a = a_dist.sample().item() # a\n",
    "                s_new, r, done, _ = env.step(a)\n",
    "                r_sum += r\n",
    "                \n",
    "                if r_sum > 10000:\n",
    "                    print('Done, No more training!')\n",
    "                    return\n",
    "                    \n",
    "                self.replay_memory.append(s, a, r, s_new, done)\n",
    "                s = s_new\n",
    "            \n",
    "            loss = self.compute_loss()\n",
    "            self.train(loss)\n",
    "\n",
    "            if i % 100 == 0:\n",
    "                print('Loss : %.05f, Reward Sum = %.02f'%(loss.item(), r_sum))\n",
    "        return\n",
    "    \n",
    "    def compute_loss(self):\n",
    "        # get mini-batch from replay-memory\n",
    "        S, A, R, S_next, D = self.replay_memory.pop_episode()\n",
    "        A = torch.tensor(A, dtype=torch.long)\n",
    "        R = torch.tensor(R, dtype=torch.float)\n",
    "        \n",
    "        # compute loss and gradient descent\n",
    "        a_prob, v = actor_critic(S) # pi(a_t|s_t)\n",
    "        a_dist = torch.distributions.Categorical(a_prob) # pi(a_t|s_t)\n",
    "        log_a_prob = a_dist.log_prob(A) # A : true actions\n",
    "        \n",
    "        _, v_next = actor_critic(S_next)\n",
    "        \n",
    "        delta = R + self.gamma*v_next - v\n",
    "        actor_loss = torch.mean(-log_a_prob*delta)\n",
    "        critic_loss = torch.mean(delta**2)\n",
    "        loss = actor_loss + critic_loss\n",
    "        return loss\n",
    "        \n",
    "    def train(self, loss):\n",
    "        self.optim.zero_grad()\n",
    "        loss.backward()\n",
    "        self.optim.step()\n",
    "        return"
   ]
  },
  {
   "cell_type": "code",
   "execution_count": 189,
   "metadata": {},
   "outputs": [],
   "source": [
    "fitter = Fitter(actor_critic)"
   ]
  },
  {
   "cell_type": "code",
   "execution_count": 190,
   "metadata": {
    "scrolled": true
   },
   "outputs": [
    {
     "name": "stdout",
     "output_type": "stream",
     "text": [
      "Loss : -0.00015, Reward Sum = 131.00\n",
      "Loss : 0.00503, Reward Sum = 126.00\n",
      "Loss : 0.00014, Reward Sum = 155.00\n",
      "Loss : 0.00023, Reward Sum = 252.00\n",
      "Loss : -0.00002, Reward Sum = 153.00\n",
      "Loss : 0.00021, Reward Sum = 138.00\n",
      "Loss : -0.00018, Reward Sum = 185.00\n",
      "Loss : -0.00019, Reward Sum = 380.00\n",
      "Loss : -0.00115, Reward Sum = 117.00\n",
      "Loss : 0.00015, Reward Sum = 197.00\n",
      "Loss : 0.00002, Reward Sum = 148.00\n",
      "Loss : -0.00027, Reward Sum = 185.00\n",
      "Loss : -0.00020, Reward Sum = 152.00\n",
      "Loss : 0.00047, Reward Sum = 204.00\n",
      "Loss : 0.00044, Reward Sum = 172.00\n",
      "Loss : 0.00019, Reward Sum = 198.00\n",
      "Loss : 0.00032, Reward Sum = 209.00\n",
      "Done, No more training!\n"
     ]
    }
   ],
   "source": [
    "n_episode = 100000\n",
    "\n",
    "fitter.run_episode(n_episode)"
   ]
  }
 ],
 "metadata": {
  "kernelspec": {
   "display_name": "tf2",
   "language": "python",
   "name": "tf2"
  },
  "language_info": {
   "codemirror_mode": {
    "name": "ipython",
    "version": 3
   },
   "file_extension": ".py",
   "mimetype": "text/x-python",
   "name": "python",
   "nbconvert_exporter": "python",
   "pygments_lexer": "ipython3",
   "version": "3.6.8"
  }
 },
 "nbformat": 4,
 "nbformat_minor": 2
}
