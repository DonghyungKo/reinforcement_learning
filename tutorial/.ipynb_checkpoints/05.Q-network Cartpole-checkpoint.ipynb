{
 "cells": [
  {
   "cell_type": "code",
   "execution_count": 46,
   "metadata": {},
   "outputs": [],
   "source": [
    "import gym\n",
    "import numpy as np\n",
    "import matplotlib.pyplot as plt\n",
    "from gym.envs.registration import register\n",
    "import random"
   ]
  },
  {
   "cell_type": "code",
   "execution_count": 1,
   "metadata": {},
   "outputs": [
    {
     "name": "stdout",
     "output_type": "stream",
     "text": [
      "Reward for this episode was: 21.0\n",
      "Reward for this episode was: 13.0\n",
      "Reward for this episode was: 10.0\n",
      "Reward for this episode was: 11.0\n",
      "Reward for this episode was: 28.0\n",
      "Reward for this episode was: 11.0\n",
      "Reward for this episode was: 16.0\n",
      "Reward for this episode was: 13.0\n",
      "Reward for this episode was: 28.0\n",
      "Reward for this episode was: 53.0\n"
     ]
    }
   ],
   "source": [
    "import gym\n",
    "env = gym.make('CartPole-v0')\n",
    "env.reset()\n",
    "\n",
    "random_episodes = 0\n",
    "reward_sum = 0\n",
    "\n",
    "while random_episodes < 10:\n",
    "    env.render()\n",
    "    action = env.action_space.sample()\n",
    "    state, reward, done, _ = env.step(env.action_space.sample())\n",
    "    #print(state, reward, done)\n",
    "    reward_sum += reward\n",
    "    \n",
    "    if done:\n",
    "        random_episodes += 1\n",
    "        print('Reward for this episode was:', reward_sum)\n",
    "        reward_sum = 0\n",
    "        env.close()\n",
    "        env.reset()"
   ]
  },
  {
   "cell_type": "markdown",
   "metadata": {},
   "source": [
    "# Q-network"
   ]
  },
  {
   "cell_type": "code",
   "execution_count": 20,
   "metadata": {},
   "outputs": [],
   "source": [
    "import numpy as np\n",
    "import torch\n",
    "import torch.nn as nn\n",
    "\n"
   ]
  },
  {
   "cell_type": "code",
   "execution_count": 112,
   "metadata": {},
   "outputs": [],
   "source": [
    "input_dim = env.observation_space.shape[0]\n",
    "hidden_dim = 16\n",
    "output_dim = env.action_space.n"
   ]
  },
  {
   "cell_type": "code",
   "execution_count": 113,
   "metadata": {},
   "outputs": [],
   "source": [
    "class QNetwork(nn.Module):\n",
    "    def __init__(self, input_dim, hidden_dim, output_dim):\n",
    "        super(QNetwork, self).__init__()     \n",
    "        \n",
    "        self.lin = nn.Sequential(\n",
    "            nn.Linear(input_dim, hidden_dim),\n",
    "            nn.Linear(hidden_dim, output_dim)\n",
    "        )\n",
    "        \n",
    "    def convert_to_tensor(sefl, x):\n",
    "        return torch.tensor(x, dtype=torch.float)\n",
    "\n",
    "    def forward(self, state):\n",
    "        if type(state) != torch.tensor:\n",
    "            state = self.convert_to_tensor(state)\n",
    "            \n",
    "        state.unsqueeze_(0)\n",
    "        out = self.lin(state)\n",
    "        \n",
    "        return out"
   ]
  },
  {
   "cell_type": "code",
   "execution_count": 114,
   "metadata": {},
   "outputs": [
    {
     "data": {
      "text/plain": [
       "QNetwork(\n",
       "  (lin): Sequential(\n",
       "    (0): Linear(in_features=4, out_features=16, bias=True)\n",
       "    (1): Linear(in_features=16, out_features=2, bias=True)\n",
       "  )\n",
       ")"
      ]
     },
     "execution_count": 114,
     "metadata": {},
     "output_type": "execute_result"
    }
   ],
   "source": [
    "q_net = QNetwork(input_dim, hidden_dim, output_dim)\n",
    "\n",
    "q_net"
   ]
  },
  {
   "cell_type": "code",
   "execution_count": 118,
   "metadata": {},
   "outputs": [
    {
     "name": "stdout",
     "output_type": "stream",
     "text": [
      "16\n",
      "12\n",
      "11\n",
      "9\n",
      "16\n",
      "152\n",
      "20\n",
      "12\n",
      "35\n",
      "15\n",
      "10\n",
      "9\n",
      "11\n",
      "10\n",
      "10\n",
      "11\n",
      "11\n",
      "9\n",
      "12\n",
      "8\n"
     ]
    }
   ],
   "source": [
    "#Q = torch.zeros([env.observation_space.n, env.action_space.n])\n",
    "\n",
    "reward_ls = []\n",
    "num_episodes = 2000\n",
    "\n",
    "criterion = torch.nn.MSELoss()\n",
    "optim = torch.optim.Adam(q_net.parameters())\n",
    "\n",
    "loss_ls = []\n",
    "    \n",
    "for i in range(num_episodes):    \n",
    "    s = env.reset()\n",
    "    r_all = 0\n",
    "    e_rate = 1. / ((i/100)+1)  # exploration rate (random action)\n",
    "    disc = 0.99\n",
    "    alpha = 0.1\n",
    "    n_step = 0\n",
    "    done = False\n",
    "    \n",
    "    while not done:\n",
    "        n_step += 1\n",
    "        \n",
    "        # Choose an action by e-greedy\n",
    "        Q_pred = q_net(s)\n",
    "        Q_target = Q_pred.clone()\n",
    "        \n",
    "        if np.random.rand(1) < e_rate :\n",
    "            a = env.action_space.sample()\n",
    "        else:\n",
    "            a = torch.argmax(Q_pred).item()\n",
    "        \n",
    "        s_new, r, done, _ = env.step(a)\n",
    "        \n",
    "        if done: #경기 종료\n",
    "            Q_target[0,a] = -500\n",
    "        else:\n",
    "            Q_target1 = q_net(s_new)\n",
    "            #Q_true[0,a] = (1-alpha)*Q_true[0,a].clone() + alpha*(r + disc*torch.max(Q_true1))\n",
    "            Q_target[0, a] = r + disc*torch.max(Q_target1)\n",
    "            \n",
    "        loss = criterion(Q_pred, Q_target)\n",
    "        loss_ls.append(loss.item())\n",
    "        \n",
    "        optim.zero_grad()\n",
    "        loss.backward()\n",
    "        optim.step()\n",
    "                \n",
    "        r_all += r\n",
    "        s = s_new\n",
    "        \n",
    "    reward_ls.append(n_step)\n",
    "    \n",
    "    if i%100 == 0:\n",
    "        print(n_step)"
   ]
  },
  {
   "cell_type": "code",
   "execution_count": 119,
   "metadata": {},
   "outputs": [
    {
     "data": {
      "text/plain": [
       "12.4845"
      ]
     },
     "execution_count": 119,
     "metadata": {},
     "output_type": "execute_result"
    }
   ],
   "source": [
    "np.mean(reward_ls)"
   ]
  },
  {
   "cell_type": "code",
   "execution_count": 120,
   "metadata": {},
   "outputs": [
    {
     "data": {
      "text/plain": [
       "[<matplotlib.lines.Line2D at 0x7fb7ec2e0860>]"
      ]
     },
     "execution_count": 120,
     "metadata": {},
     "output_type": "execute_result"
    },
    {
     "data": {
      "image/png": "[encoded data removed]",
      "text/plain": [
       "<Figure size 432x288 with 1 Axes>"
      ]
     },
     "metadata": {
      "needs_background": "light"
     },
     "output_type": "display_data"
    }
   ],
   "source": [
    "plt.plot(reward_ls)"
   ]
  },
  {
   "cell_type": "markdown",
   "metadata": {},
   "source": [
    "## Doesn't Converge\n",
    "\n",
    "### due to \n",
    " - non-stationary target\n",
    " - correlation between samples"
   ]
  },
  {
   "cell_type": "code",
   "execution_count": null,
   "metadata": {},
   "outputs": [],
   "source": []
  }
 ],
 "metadata": {
  "kernelspec": {
   "display_name": "RL",
   "language": "python",
   "name": "rl"
  },
  "language_info": {
   "codemirror_mode": {
    "name": "ipython",
    "version": 3
   },
   "file_extension": ".py",
   "mimetype": "text/x-python",
   "name": "python",
   "nbconvert_exporter": "python",
   "pygments_lexer": "ipython3",
   "version": "3.7.3"
  }
 },
 "nbformat": 4,
 "nbformat_minor": 2
}
