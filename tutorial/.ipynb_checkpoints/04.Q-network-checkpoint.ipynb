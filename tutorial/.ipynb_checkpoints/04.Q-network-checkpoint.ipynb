{
 "cells": [
  {
   "cell_type": "code",
   "execution_count": 1,
   "metadata": {},
   "outputs": [],
   "source": [
    "import gym\n",
    "import numpy as np\n",
    "import matplotlib.pyplot as plt\n",
    "from gym.envs.registration import register\n",
    "import random"
   ]
  },
  {
   "cell_type": "code",
   "execution_count": 2,
   "metadata": {},
   "outputs": [],
   "source": [
    "def rargmax(vector):\n",
    "    m = np.amax(vector)\n",
    "    indices = np.nonzero(vector == m)[0]\n",
    "    return random.choice(indices)"
   ]
  },
  {
   "cell_type": "code",
   "execution_count": 3,
   "metadata": {},
   "outputs": [],
   "source": [
    "register(\n",
    "    id='FrozenLake-v3',\n",
    "    entry_point='gym.envs.toy_text:FrozenLakeEnv',\n",
    "    kwargs={\n",
    "        'map_name' : '4x4',\n",
    "        'is_slippery' : True,\n",
    "    }\n",
    ")"
   ]
  },
  {
   "cell_type": "code",
   "execution_count": 4,
   "metadata": {},
   "outputs": [],
   "source": [
    "env = gym.make('FrozenLake-v3')"
   ]
  },
  {
   "cell_type": "markdown",
   "metadata": {},
   "source": [
    "# Q-network"
   ]
  },
  {
   "cell_type": "code",
   "execution_count": 5,
   "metadata": {},
   "outputs": [],
   "source": [
    "import torch\n",
    "import torch.nn as nn\n",
    "\n",
    "def one_hot(x):\n",
    "    return torch.eye(16)[x:x+1]"
   ]
  },
  {
   "cell_type": "code",
   "execution_count": 6,
   "metadata": {},
   "outputs": [],
   "source": [
    "input_dim = env.observation_space.n\n",
    "output_dim = env.action_space.n"
   ]
  },
  {
   "cell_type": "code",
   "execution_count": 7,
   "metadata": {},
   "outputs": [],
   "source": [
    "class QNetwork(nn.Module):\n",
    "    def __init__(self, input_dim, output_dim):\n",
    "        super(QNetwork, self).__init__()     \n",
    "        self.lin1 = nn.Linear(input_dim, output_dim)\n",
    "        return\n",
    "    \n",
    "    def forward(self, state):\n",
    "        out = self.lin1(state)\n",
    "        return out"
   ]
  },
  {
   "cell_type": "code",
   "execution_count": 8,
   "metadata": {},
   "outputs": [],
   "source": [
    "q_net = QNetwork(input_dim, output_dim)"
   ]
  },
  {
   "cell_type": "code",
   "execution_count": 37,
   "metadata": {},
   "outputs": [],
   "source": [
    "#Q = torch.zeros([env.observation_space.n, env.action_space.n])\n",
    "\n",
    "reward_ls = []\n",
    "num_episodes = 10000\n",
    "\n",
    "criterion = torch.nn.MSELoss()\n",
    "optim = torch.optim.Adam(q_net.parameters())\n",
    "\n",
    "loss_ls = []\n",
    "    \n",
    "for i in range(num_episodes):    \n",
    "    s = env.reset()\n",
    "    r_all = 0\n",
    "    e_rate = 1. / ((i/100)+1)  # exploration rate (random action)\n",
    "    disc = 0.99\n",
    "    alpha = 0.1\n",
    "    done = False\n",
    "    \n",
    "    while not done:\n",
    "        # Choose an action by e-greedy\n",
    "        Q_pred = q_net(one_hot(s))\n",
    "        \n",
    "        if np.random.rand(1) < e_rate :\n",
    "            a = env.action_space.sample()\n",
    "        else:\n",
    "            a = torch.argmax(Q_pred).item()\n",
    "          \n",
    "        s_new, r, done, _ = env.step(a)\n",
    "        #Q[s, a] = (1-alpha)*Q[s,a] + alpha*(r + disc*torch.max(Q[s_new, :].clone()))      \n",
    "        Q_true = Q_pred.clone()\n",
    "        if done:\n",
    "            Q_true[0, a] = r     \n",
    "        else:\n",
    "            Q_true1 = q_net(one_hot(s_new))#.detach().numpy()\n",
    "            Q_true[0, a] = (1-alpha)*Q_true[0,a].clone() + alpha*(r + disc*torch.max(Q_true1))\n",
    "        \n",
    "        loss = criterion(Q_pred, Q_true)\n",
    "        loss_ls.append(loss.item())\n",
    "        \n",
    "        optim.zero_grad()\n",
    "        loss.backward()\n",
    "        optim.step()\n",
    "        \n",
    "        r_all += r\n",
    "        s = s_new\n",
    "    \n",
    "    reward_ls.append(r_all)"
   ]
  },
  {
   "cell_type": "code",
   "execution_count": 38,
   "metadata": {},
   "outputs": [
    {
     "data": {
      "text/plain": [
       "[<matplotlib.lines.Line2D at 0x7f816cf91400>]"
      ]
     },
     "execution_count": 38,
     "metadata": {},
     "output_type": "execute_result"
    },
    {
     "data": {
      "image/png": "[encoded data removed]",
      "text/plain": [
       "<Figure size 432x288 with 1 Axes>"
      ]
     },
     "metadata": {
      "needs_background": "light"
     },
     "output_type": "display_data"
    }
   ],
   "source": [
    "plt.plot(loss_ls)"
   ]
  },
  {
   "cell_type": "code",
   "execution_count": 39,
   "metadata": {},
   "outputs": [
    {
     "data": {
      "text/plain": [
       "0.6365"
      ]
     },
     "execution_count": 39,
     "metadata": {},
     "output_type": "execute_result"
    }
   ],
   "source": [
    "np.mean(reward_ls)"
   ]
  },
  {
   "cell_type": "code",
   "execution_count": null,
   "metadata": {},
   "outputs": [],
   "source": []
  }
 ],
 "metadata": {
  "kernelspec": {
   "display_name": "RL",
   "language": "python",
   "name": "rl"
  },
  "language_info": {
   "codemirror_mode": {
    "name": "ipython",
    "version": 3
   },
   "file_extension": ".py",
   "mimetype": "text/x-python",
   "name": "python",
   "nbconvert_exporter": "python",
   "pygments_lexer": "ipython3",
   "version": "3.7.3"
  }
 },
 "nbformat": 4,
 "nbformat_minor": 2
}
