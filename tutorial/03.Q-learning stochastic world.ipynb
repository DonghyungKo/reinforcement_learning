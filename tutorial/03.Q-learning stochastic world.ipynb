{
 "cells": [
  {
   "cell_type": "code",
   "execution_count": 1,
   "metadata": {},
   "outputs": [],
   "source": [
    "import gym\n",
    "import numpy as np\n",
    "import matplotlib.pyplot as plt\n",
    "from gym.envs.registration import register\n",
    "import random"
   ]
  },
  {
   "cell_type": "code",
   "execution_count": 2,
   "metadata": {},
   "outputs": [],
   "source": [
    "def rargmax(vector):\n",
    "    m = np.amax(vector)\n",
    "    indices = np.nonzero(vector == m)[0]\n",
    "    return random.choice(indices)"
   ]
  },
  {
   "cell_type": "code",
   "execution_count": 3,
   "metadata": {},
   "outputs": [],
   "source": [
    "register(\n",
    "    id='FrozenLake-v3',\n",
    "    entry_point='gym.envs.toy_text:FrozenLakeEnv',\n",
    "    kwargs={\n",
    "        'map_name' : '4x4',\n",
    "        'is_slippery' : True,\n",
    "    }\n",
    ")"
   ]
  },
  {
   "cell_type": "code",
   "execution_count": 4,
   "metadata": {},
   "outputs": [],
   "source": [
    "env = gym.make('FrozenLake-v0')"
   ]
  },
  {
   "cell_type": "markdown",
   "metadata": {},
   "source": [
    "## Stochastic world\n",
    " - Listen to Q(s') (just a little bit)\n",
    " - Update Q(s) little bit (learning rate)\n",
    " - you need many mentors"
   ]
  },
  {
   "cell_type": "code",
   "execution_count": 40,
   "metadata": {},
   "outputs": [
    {
     "name": "stdout",
     "output_type": "stream",
     "text": [
      "0\n",
      "1000\n",
      "2000\n",
      "3000\n",
      "4000\n",
      "5000\n",
      "6000\n",
      "7000\n",
      "8000\n",
      "9000\n",
      "10000\n",
      "11000\n",
      "12000\n",
      "13000\n",
      "14000\n",
      "15000\n",
      "16000\n",
      "17000\n",
      "18000\n",
      "19000\n"
     ]
    }
   ],
   "source": [
    "Q = np.zeros([env.observation_space.n, env.action_space.n])\n",
    "\n",
    "reward_ls = []\n",
    "num_episodes = 20000\n",
    "\n",
    "for i in range(num_episodes):\n",
    "    if i % 1000 == 0: print(i)\n",
    "        \n",
    "    state = env.reset()\n",
    "    r_all = 0\n",
    "    e_rate = 1. / ((i/100)+1)  # exploration rate (random action)\n",
    "    discount_rate = 0.99\n",
    "    alpha = 0.1\n",
    "    done = False\n",
    "    \n",
    "    while not done:\n",
    "        # Choose an action by e-greedy\n",
    "        if np.random.rand(1) < e_rate :\n",
    "            action = env.action_space.sample()\n",
    "        else:\n",
    "            action = np.argmax(Q[state, :] + np.random.randn(1, env.action_space.n)/(i+1))\n",
    "          \n",
    "        new_state, reward, done, _ = env.step(action)\n",
    "        \n",
    "        #Q[state, action] = reward + discount_rate * np.max(Q[new_state, :])     \n",
    "        Q[state, action] = \\\n",
    "            (1-alpha)*Q[state,action] \\\n",
    "            + alpha*(reward + discount_rate * np.max(Q[new_state, :]))      \n",
    "        \n",
    "        r_all += reward\n",
    "        state = new_state\n",
    "    \n",
    "    reward_ls.append(r_all)"
   ]
  },
  {
   "cell_type": "code",
   "execution_count": 41,
   "metadata": {},
   "outputs": [
    {
     "data": {
      "text/plain": [
       "0.63675"
      ]
     },
     "execution_count": 41,
     "metadata": {},
     "output_type": "execute_result"
    }
   ],
   "source": [
    "np.mean(reward_ls)"
   ]
  },
  {
   "cell_type": "code",
   "execution_count": 43,
   "metadata": {},
   "outputs": [
    {
     "data": {
      "text/plain": [
       "array([[0.528404  , 0.50741397, 0.50770333, 0.50583094],\n",
       "       [0.34189007, 0.28714577, 0.27608253, 0.49266976],\n",
       "       [0.38040395, 0.39802621, 0.39608381, 0.47822258],\n",
       "       [0.28769833, 0.23721839, 0.30984258, 0.47199703],\n",
       "       [0.54342758, 0.38892451, 0.38608399, 0.39901984],\n",
       "       [0.        , 0.        , 0.        , 0.        ],\n",
       "       [0.1855003 , 0.0975719 , 0.28421536, 0.12249907],\n",
       "       [0.        , 0.        , 0.        , 0.        ],\n",
       "       [0.26618867, 0.4467343 , 0.38241505, 0.56753255],\n",
       "       [0.4328771 , 0.63534374, 0.36918807, 0.45948355],\n",
       "       [0.64856715, 0.20794779, 0.38144504, 0.35997765],\n",
       "       [0.        , 0.        , 0.        , 0.        ],\n",
       "       [0.        , 0.        , 0.        , 0.        ],\n",
       "       [0.59358351, 0.3607154 , 0.75196581, 0.56039329],\n",
       "       [0.73702809, 0.92627018, 0.81288763, 0.74177775],\n",
       "       [0.        , 0.        , 0.        , 0.        ]])"
      ]
     },
     "execution_count": 43,
     "metadata": {},
     "output_type": "execute_result"
    }
   ],
   "source": [
    "Q"
   ]
  },
  {
   "cell_type": "code",
   "execution_count": null,
   "metadata": {},
   "outputs": [],
   "source": []
  }
 ],
 "metadata": {
  "kernelspec": {
   "display_name": "RL",
   "language": "python",
   "name": "rl"
  },
  "language_info": {
   "codemirror_mode": {
    "name": "ipython",
    "version": 3
   },
   "file_extension": ".py",
   "mimetype": "text/x-python",
   "name": "python",
   "nbconvert_exporter": "python",
   "pygments_lexer": "ipython3",
   "version": "3.7.3"
  }
 },
 "nbformat": 4,
 "nbformat_minor": 2
}
