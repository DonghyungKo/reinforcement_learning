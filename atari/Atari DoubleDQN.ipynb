{
 "cells": [
  {
   "cell_type": "code",
   "execution_count": 1,
   "metadata": {},
   "outputs": [],
   "source": [
    "import torch\n",
    "import torch.nn as nn\n",
    "\n",
    "# Import the gym module\n",
    "import gym\n",
    "import numpy as np\n",
    "import time \n",
    "\n",
    "from matplotlib import pyplot as plt\n",
    "\n",
    "import random\n",
    "\n",
    "import gym\n",
    "from IPython import display\n",
    "import matplotlib\n",
    "import matplotlib.pyplot as plt\n",
    "%matplotlib inline\n",
    "\n",
    "import cv2"
   ]
  },
  {
   "cell_type": "code",
   "execution_count": 2,
   "metadata": {},
   "outputs": [],
   "source": [
    "class NoopResetEnv(gym.Wrapper):\n",
    "    def __init__(self, env, noop_max=10):\n",
    "        '''첫 번째 트릭 No-Operation. 초기화 후 일정 단계에 이를때까지 아무 행동도 하지않고\n",
    "        게임 초기 상태를 다양하게 하여 특정 시작 상태만 학습하는 것을 방지한다'''\n",
    "\n",
    "        gym.Wrapper.__init__(self, env)\n",
    "        self.noop_max = noop_max\n",
    "        self.override_num_noops = None\n",
    "        self.noop_action = 0\n",
    "        assert env.unwrapped.get_action_meanings()[0] == 'NOOP'\n",
    "\n",
    "    def reset(self, **kwargs):\n",
    "        \"\"\" Do no-op action for a number of steps in [1, noop_max].\"\"\"\n",
    "        self.env.reset(**kwargs)\n",
    "        if self.override_num_noops is not None:\n",
    "            noops = self.override_num_noops\n",
    "        else:\n",
    "            noops = self.unwrapped.np_random.randint(\n",
    "                1, self.noop_max + 1)  # pylint: disable=E1101\n",
    "        assert noops > 0\n",
    "        obs = None\n",
    "        for _ in range(noops):\n",
    "            obs, _, done, _ = self.env.step(self.noop_action)\n",
    "            if done:\n",
    "                obs = self.env.reset(**kwargs)\n",
    "        return obs\n",
    "\n",
    "    def step(self, ac):\n",
    "        return self.env.step(ac)\n"
   ]
  },
  {
   "cell_type": "code",
   "execution_count": 3,
   "metadata": {},
   "outputs": [],
   "source": [
    "# Create a breakout environment\n",
    "env = gym.make('BreakoutNoFrameskip-v4')\n",
    "env = NoopResetEnv(env, noop_max=30)"
   ]
  },
  {
   "cell_type": "code",
   "execution_count": 4,
   "metadata": {},
   "outputs": [],
   "source": [
    "def preprocess(img):\n",
    "    img = cv2.cvtColor(img, cv2.COLOR_RGB2GRAY)\n",
    "    img = cv2.resize(img, (84, 84), interpolation=cv2.INTER_AREA)\n",
    "    return np.expand_dims(img, 0) # (1, 80, 80)"
   ]
  },
  {
   "cell_type": "code",
   "execution_count": 5,
   "metadata": {
    "scrolled": true
   },
   "outputs": [
    {
     "data": {
      "image/png": "[encoded data removed]",
      "text/plain": [
       "<Figure size 432x288 with 1 Axes>"
      ]
     },
     "metadata": {
      "needs_background": "light"
     },
     "output_type": "display_data"
    }
   ],
   "source": [
    "env.reset()\n",
    "img = plt.imshow(env.render(mode='rgb_array')) # only call this once\n",
    "for _ in range(30):\n",
    "    img.set_data(env.render(mode='rgb_array')) # just update the data\n",
    "    display.display(plt.gcf())\n",
    "    display.clear_output(wait=True)\n",
    "    action = env.action_space.sample()\n",
    "    env.step(action)"
   ]
  },
  {
   "cell_type": "code",
   "execution_count": 6,
   "metadata": {
    "scrolled": false
   },
   "outputs": [
    {
     "data": {
      "text/plain": [
       "<matplotlib.image.AxesImage at 0x7f94cc139ef0>"
      ]
     },
     "execution_count": 6,
     "metadata": {},
     "output_type": "execute_result"
    },
    {
     "data": {
      "image/png": "[encoded data removed]",
      "text/plain": [
       "<Figure size 432x288 with 1 Axes>"
      ]
     },
     "metadata": {
      "needs_background": "light"
     },
     "output_type": "display_data"
    }
   ],
   "source": [
    "env.reset()\n",
    "for _ in range(30):\n",
    "    s, _, _, _ = env.step(env.action_space.sample())\n",
    "\n",
    "plt.imshow(preprocess(s)[0])"
   ]
  },
  {
   "cell_type": "code",
   "execution_count": 7,
   "metadata": {},
   "outputs": [],
   "source": [
    "from collections import deque\n",
    "import random \n",
    "\n",
    "class ReplayMemory(object):\n",
    "    def __init__(self, capacity):\n",
    "        self.deque = deque(maxlen=capacity)\n",
    "\n",
    "    def append(self, state, action, reward, next_state, done):\n",
    "        self.deque.append((state, action, reward, next_state, done))\n",
    "    \n",
    "    def sample(self, batch_size):\n",
    "        state, action, reward, next_state, done = zip(*random.sample(self.deque, batch_size))\n",
    "        return np.concatenate(state), action, reward, np.concatenate(next_state), done\n",
    "    \n",
    "    def __len__(self):\n",
    "        return len(self.deque)"
   ]
  },
  {
   "cell_type": "code",
   "execution_count": 8,
   "metadata": {},
   "outputs": [],
   "source": [
    "class FrameHistory(object):\n",
    "    # consecutive frame을 4개씩 병합하여 새로운 x를 하나씩 만드는 클래스\n",
    "    # 만들어진 x는 4개씩 concat하고 s를 만들어서 DQN의 input으로 들어감\n",
    "    def __init__(self, env, k=4):\n",
    "        self.state_deque = deque(maxlen=k) # [x1, x2, x3, x4]\n",
    "        self.frame_history_deque = deque(maxlen=k) #[s1, s2, s3, s4]\n",
    "        self.k = k\n",
    "        \n",
    "        # 최초에는 초기 화면(env.reset)으로 채워둠\n",
    "        self.env = env\n",
    "        self.initial_state = self.preprocess(self.env.reset())\n",
    "        self.reset()\n",
    "        \n",
    "    def preprocess(self, img):\n",
    "        img = cv2.cvtColor(img, cv2.COLOR_RGB2GRAY)\n",
    "        img = cv2.resize(img, (84, 84), interpolation=cv2.INTER_AREA)\n",
    "        return np.expand_dims(img, 0) # (1, 80, 80)\n",
    "    \n",
    "    def append_frame(self, s):\n",
    "        # if full, aggregate and clear old frames, append new frame to history queue\n",
    "        self.frame_history_deque.append(self.preprocess(s))\n",
    "        \n",
    "        if len(self) == self.k:\n",
    "            self.state_deque.append(self.aggregate_frame())\n",
    "        return\n",
    "        \n",
    "    def aggregate_frame(self):\n",
    "        if len(self) < self.k:\n",
    "            raise ValueError('not enough frames in history, expected %s, but got %s'%(self.k, len(self)))\n",
    "        \n",
    "        # element-wise maximum to aggregate\n",
    "        frame_history = [self.frame_history_deque.popleft() for _ in range(self.k)]\n",
    "        return np.maximum.reduce(frame_history[-2:]) #마지막 2 프레임 사용 \n",
    "    \n",
    "    def get_state(self):\n",
    "        S = np.array([self.state_deque[i] for i in range(self.k)]) # S = [x1, x2, x3, x4], (4, 1, 80, 80)\n",
    "        S = np.swapaxes(S, 0, 1) # (1, 4, 80, 80)\n",
    "        return S\n",
    "    \n",
    "    def reset(self):\n",
    "        self.frame_history_deque = deque(maxlen=k)\n",
    "        self.state_deque = deque(maxlen=k)\n",
    "        \n",
    "        for _ in range(self.k):\n",
    "            self.state_deque.append(self.initial_state)\n",
    "    \n",
    "    def __len__(self):\n",
    "        return len(self.frame_history_deque)"
   ]
  },
  {
   "cell_type": "code",
   "execution_count": 9,
   "metadata": {},
   "outputs": [],
   "source": [
    "class DQN(nn.Module):\n",
    "    def __init__(self, in_dim, n_action):\n",
    "        super(DQN, self).__init__()\n",
    "        self.device = torch.device('cuda:0' if torch.cuda.is_available() else 'cpu')\n",
    "        \n",
    "        self.conv = nn.Sequential(\n",
    "            nn.Conv2d(in_dim, 32, (8, 8), stride=4), nn.ReLU(), # conv 1\n",
    "            nn.Conv2d(32, 64, (4, 4), stride=2), nn.ReLU(), # conv 2\n",
    "            nn.Conv2d(64, 64, (3, 3), stride=1), nn.ReLU() # conv 3\n",
    "        )\n",
    "        self.fc = nn.Sequential(\n",
    "            nn.Linear(64*7*7, 512), nn.ReLU(), # hidden layer\n",
    "            nn.Linear(512, n_action)\n",
    "        )\n",
    "        \n",
    "    def to_tensor(self, img):\n",
    "        img = torch.tensor(img, dtype=torch.float32, device=self.device).cuda(non_blocking=True) # to tensor\n",
    "        img /= 255                                   # normalize into 0-1\n",
    "        while img.dim() < 4 :                        # 4-dim\n",
    "            img = img.unsqueeze(0)\n",
    "        return img\n",
    "        \n",
    "    def forward(self, frames):\n",
    "        frames = self.to_tensor(frames) \n",
    "        conved = self.conv(frames)\n",
    "        conved = conved.view(conved.size(0), -1)\n",
    "        output = self.fc(conved)\n",
    "        return output"
   ]
  },
  {
   "cell_type": "code",
   "execution_count": 10,
   "metadata": {},
   "outputs": [],
   "source": [
    "import torch.nn.init as init\n",
    "\n",
    "def weight_init(m):\n",
    "    '''\n",
    "    Usage:\n",
    "        model = Model()\n",
    "        model.apply(weight_init)\n",
    "    '''\n",
    "    if isinstance(m, nn.Conv2d):\n",
    "        init.xavier_normal_(m.weight.data)\n",
    "        if m.bias is not None:\n",
    "            init.normal_(m.bias.data)\n",
    "\n",
    "    elif isinstance(m, nn.Linear):\n",
    "        init.xavier_normal_(m.weight.data)\n",
    "        init.normal_(m.bias.data)\n",
    "    return"
   ]
  },
  {
   "cell_type": "code",
   "execution_count": 11,
   "metadata": {},
   "outputs": [
    {
     "data": {
      "text/plain": [
       "DQN(\n",
       "  (conv): Sequential(\n",
       "    (0): Conv2d(4, 32, kernel_size=(8, 8), stride=(4, 4))\n",
       "    (1): ReLU()\n",
       "    (2): Conv2d(32, 64, kernel_size=(4, 4), stride=(2, 2))\n",
       "    (3): ReLU()\n",
       "    (4): Conv2d(64, 64, kernel_size=(3, 3), stride=(1, 1))\n",
       "    (5): ReLU()\n",
       "  )\n",
       "  (fc): Sequential(\n",
       "    (0): Linear(in_features=3136, out_features=512, bias=True)\n",
       "    (1): ReLU()\n",
       "    (2): Linear(in_features=512, out_features=4, bias=True)\n",
       "  )\n",
       ")"
      ]
     },
     "execution_count": 11,
     "metadata": {},
     "output_type": "execute_result"
    }
   ],
   "source": [
    "#############\n",
    "k = 4 ## number of skipped frame\n",
    "#############\n",
    "\n",
    "behavior_net = DQN(in_dim=k, n_action=4)\n",
    "target_net = DQN(in_dim=k, n_action=4)\n",
    "\n",
    "behavior_net.to(behavior_net.device) # model to cuda\n",
    "target_net.to(target_net.device)     # model to cuda\n",
    "\n",
    "behavior_net.apply(weight_init)\n",
    "target_net.apply(weight_init)"
   ]
  },
  {
   "cell_type": "code",
   "execution_count": 12,
   "metadata": {},
   "outputs": [],
   "source": [
    "def grow_batch_size(current_memory, max_memory):\n",
    "    # grow batch size from 32 to 64 as respect to memory size\n",
    "    memory_ratio = current_memory / max_memory\n",
    "    new_batch_size = int(32 + 32*memory_ratio)\n",
    "    return new_batch_size"
   ]
  },
  {
   "cell_type": "code",
   "execution_count": 13,
   "metadata": {},
   "outputs": [],
   "source": [
    "class Fitter():\n",
    "    def __init__(self, env, behavior_net, target_net, k=4, train_method='DQN'):\n",
    "        self.env = env\n",
    "        self.train_method = train_method\n",
    "        self.device = 'cuda:0' if torch.cuda.is_available() else 'cpu'\n",
    "        self.save_path = ('BreakoutDoubleDQN_state_dict')\n",
    "\n",
    "        # networks\n",
    "        self.behavior_net = behavior_net\n",
    "        self.target_net = target_net\n",
    "        self.behavior_net.to(self.behavior_net.device) # model to cuda\n",
    "        self.target_net.to(self.target_net.device)     # model to cuda\n",
    "        \n",
    "        # train parameters\n",
    "        self.gamma = 0.99 #as written in paper\n",
    "        self.criterion = nn.SmoothL1Loss() # huber loss (error-clipping)\n",
    "        self.optim = torch.optim.RMSprop(self.behavior_net.parameters(), lr=0.00025, alpha=0.95, eps=0.01) #as written in paper in Rainbow\n",
    "        self.k = k\n",
    "        \n",
    "        # train details\n",
    "        self.total_frame = 0\n",
    "        self.total_episode = 0\n",
    "        \n",
    "        self.test_e = 0.05\n",
    "        self.batch_size = 32\n",
    "        self.max_replay = 250000 # not as written in paper\n",
    "        self.min_replay = 50000 # not as written in the paper\n",
    "        self.replay_memory = ReplayMemory(self.max_replay)\n",
    "        self.frame_history = FrameHistory(env=self.env, k=self.k)\n",
    "        \n",
    "        self.train_reward_ls = []\n",
    "        self.test_reward_ls = []\n",
    "    \n",
    "    # train-epsilon\n",
    "    @property\n",
    "    def train_e(self):\n",
    "        return np.max([1 - 9.0*1e-07*self.total_frame, 0.1])\n",
    "    \n",
    "    \n",
    "    def reset_episode(self):\n",
    "        # game(episode) begins\n",
    "        self.env.reset()  \n",
    "        self.frame_history.reset() #frame history reset\n",
    "        self.current_episode_frame = 0         # each episode의 frame 수 \n",
    "        self.current_episode_reward = 0        # each episode의 reward 합\n",
    "        self.current_life = 5\n",
    "    \n",
    "    def choose_action(self, S, e):\n",
    "        # at the beginning of an episode, do something\n",
    "        if self.current_episode_frame == 0:\n",
    "            a = 1\n",
    "        else:\n",
    "            # Choose an action by e-greedy\n",
    "            if np.random.rand(1) < e :\n",
    "                a = self.env.action_space.sample()\n",
    "            else:\n",
    "                q_behavior = self.behavior_net(S)\n",
    "                a = torch.argmax(q_behavior).item()\n",
    "        return a\n",
    "    \n",
    "    \n",
    "    def run_k_frames(self, e):\n",
    "        # choose action!\n",
    "        S = self.frame_history.get_state()\n",
    "        a = self.choose_action(S, e)\n",
    "        r_sum = 0\n",
    "        \n",
    "        # repeat the action k-times\n",
    "        for _ in range(self.k):\n",
    "            s_next, r, done, info = self.env.step(a)\n",
    "            self.frame_history.append_frame(s_next)\n",
    "            r_sum += self.clip_reward(r) # store clipped reward for future training replay(experience)\n",
    "            \n",
    "            # accumulate history\n",
    "            self.current_episode_frame += 1\n",
    "            self.current_episode_reward += r\n",
    "            \n",
    "            # if episode(game) ends, return done(True)\n",
    "            if done: \n",
    "                return done\n",
    "            \n",
    "        # concat last k-frames into a next state S_next\n",
    "        S_next = self.frame_history.get_state()\n",
    "        \n",
    "        # Terminal when lose life\n",
    "        if info['ale.lives'] < self.current_life:\n",
    "            self.current_life = info['ale.lives']\n",
    "            terminal = True\n",
    "            self.replay_memory.append(S, a, r_sum, S_next, terminal) # save replay(experience)\n",
    "        \n",
    "        else:\n",
    "            self.replay_memory.append(S, a, r_sum, S_next, done) # save replay(experience)\n",
    "            \n",
    "        return done\n",
    "\n",
    "    \n",
    "    def train(self, max_total_frame):\n",
    "        while self.total_frame < max_total_frame :\n",
    "            # episode starts!\n",
    "            self.reset_episode()\n",
    "            \n",
    "            done = False\n",
    "            while not done:\n",
    "                done = self.run_k_frames(e=self.train_e)\n",
    "                \n",
    "                # training when enough replay-memory, every k-frames\n",
    "                if len(self.replay_memory) > self.min_replay:\n",
    "                    self.train_batch(self.batch_size)   \n",
    "                    self.total_frame += self.k\n",
    "                    \n",
    "                    # update target_net every 10,000 updates\n",
    "                    if self.total_frame%(self.k*10000)== 0 :\n",
    "                        self.update_target()\n",
    "                        self.save()\n",
    "                \n",
    "            # single-episode(game) is now done\n",
    "            # if not enough memory, save more\n",
    "            if len(self.replay_memory) < self.min_replay:\n",
    "                print('Not enough replay yet, expected more than %s, but %s instead'%(self.min_replay, len(self.replay_memory)))\n",
    "            \n",
    "            # if enough memory, print train result\n",
    "            else:\n",
    "                print('Train Episode :%s, Total Frame : %s, Train reward : %s,'%(self.total_episode, self.total_frame, self.current_episode_reward))\n",
    "                self.total_episode += 1\n",
    "                self.train_reward_ls.append(self.current_episode_reward)\n",
    "            \n",
    "                # testing, every 10 episodes when enough replay\n",
    "                if self.total_episode%10 == 0:\n",
    "                    self.test()           \n",
    "\n",
    "    def train_batch(self, batch_size):\n",
    "        # get mini-batch from replay-memory\n",
    "        S, A, R, S_next, D = self.replay_memory.sample(batch_size)\n",
    "        A = self.to_tensor(A, dtype=torch.long)\n",
    "        R = self.to_tensor(R, dtype=torch.float32)\n",
    "        D = self.to_tensor(D, dtype=torch.float32)\n",
    "        \n",
    "        q_behaviors = self.behavior_net(S)                # Q-values for every possible actions\n",
    "        q_behavior = self.select_indices(q_behaviors, A) # select Q-value for given actions\n",
    "        \n",
    "        if self.train_method=='DQN':\n",
    "            q_targets_next = self.target_net(S_next)   # Q-values of every possible actions next state (targetDQN)\n",
    "            q_target_next = q_targets_next.max(1)[0]   # max Q-values of next state\n",
    "            q_target = R + self.gamma*q_target_next*(1-D) \n",
    "        \n",
    "        elif self.train_method=='DoubleDQN':\n",
    "            next_actions = torch.argmax(self.behavior_net(S_next), dim=1) # choose argmax behavior actions at S_next\n",
    "            \n",
    "            q_targets_next = self.target_net(S_next) # cal Q-values of every possible actions next state (targetDQN)\n",
    "            q_target_next = self.select_indices(q_targets_next, next_actions) # select Q-value for next behavior actions\n",
    "            q_target = R + self.gamma*q_target_next*(1-D)\n",
    "        \n",
    "        # update weights\n",
    "        self.optim.zero_grad()\n",
    "        loss = self.criterion(q_target, q_behavior)\n",
    "        loss.backward()\n",
    "        self.optim.step()\n",
    "        return\n",
    "        \n",
    "    def to_tensor(self, x, dtype=torch.float):\n",
    "        return torch.tensor(x, dtype=dtype, device=self.device)\n",
    "    \n",
    "    def select_indices(self, tensor, indices, dim=1):\n",
    "        if type(indices) != torch.Tensor:\n",
    "            indices = self.to_tensor(indices, dtype=torch.long)\n",
    "        if indices.dim() < 2 :\n",
    "            indices = indices.unsqueeze(1)\n",
    "        return tensor.gather(dim, indices).squeeze(1)\n",
    "    \n",
    "    def clip_reward(self, r):\n",
    "        return np.sign(r)\n",
    "    \n",
    "    \n",
    "    def update_target(self):\n",
    "        print('Update Target')\n",
    "        self.target_net.load_state_dict(self.behavior_net.state_dict())\n",
    "        return \n",
    "    \n",
    "    def test(self):\n",
    "        self.reset_episode()\n",
    "        done=False\n",
    "        while not done:\n",
    "            done = self.run_k_frames(e=fitter.test_e) # e-greedy\n",
    "                \n",
    "        self.test_reward_ls.append(self.current_episode_reward)\n",
    "        print('※Test※ \\t Frames: %s \\t Score: %s'%(self.current_episode_frame, self.current_episode_reward))\n",
    "        return\n",
    "     \n",
    "    def save(self):\n",
    "        torch.save(self.behavior_net.state_dict(), self.save_path)"
   ]
  },
  {
   "cell_type": "code",
   "execution_count": 14,
   "metadata": {},
   "outputs": [],
   "source": [
    "fitter = Fitter(env, behavior_net, target_net, k=k, train_method='DoubleDQN')"
   ]
  },
  {
   "cell_type": "code",
   "execution_count": null,
   "metadata": {},
   "outputs": [],
   "source": [
    "max_frame = 50000000\n",
    "fitter.train(max_frame)"
   ]
  },
  {
   "cell_type": "code",
   "execution_count": 29,
   "metadata": {},
   "outputs": [
    {
     "data": {
      "text/plain": [
       "16730460"
      ]
     },
     "execution_count": 29,
     "metadata": {},
     "output_type": "execute_result"
    }
   ],
   "source": [
    "fitter.total_frame"
   ]
  },
  {
   "cell_type": "code",
   "execution_count": 30,
   "metadata": {
    "scrolled": false
   },
   "outputs": [
    {
     "data": {
      "text/plain": [
       "[<matplotlib.lines.Line2D at 0x7f9415f0ff98>]"
      ]
     },
     "execution_count": 30,
     "metadata": {},
     "output_type": "execute_result"
    },
    {
     "data": {
      "image/png": "[encoded data removed]",
      "text/plain": [
       "<Figure size 432x288 with 1 Axes>"
      ]
     },
     "metadata": {
      "needs_background": "light"
     },
     "output_type": "display_data"
    }
   ],
   "source": [
    "plt.plot(fitter.train_reward_ls)"
   ]
  },
  {
   "cell_type": "code",
   "execution_count": 31,
   "metadata": {
    "scrolled": true
   },
   "outputs": [
    {
     "data": {
      "text/plain": [
       "[<matplotlib.lines.Line2D at 0x7f9415cfd7f0>]"
      ]
     },
     "execution_count": 31,
     "metadata": {},
     "output_type": "execute_result"
    },
    {
     "data": {
      "image/png": "[encoded data removed]",
      "text/plain": [
       "<Figure size 432x288 with 1 Axes>"
      ]
     },
     "metadata": {
      "needs_background": "light"
     },
     "output_type": "display_data"
    }
   ],
   "source": [
    "plt.plot(fitter.test_reward_ls)"
   ]
  },
  {
   "cell_type": "code",
   "execution_count": 23,
   "metadata": {},
   "outputs": [
    {
     "name": "stdout",
     "output_type": "stream",
     "text": [
      "tensor([[0.8572, 0.9168, 0.8955, 0.8678]], device='cuda:0')\n",
      "tensor([[0.7344, 0.7749, 0.7960, 0.7344]], device='cuda:0')\n",
      "tensor([[0.9327, 0.9411, 0.8770, 0.9452]], device='cuda:0')\n",
      "tensor([[0.5917, 0.5709, 0.6286, 0.5887]], device='cuda:0')\n",
      "tensor([[0.3456, 0.3642, 0.3474, 0.3557]], device='cuda:0')\n",
      "tensor([[0.1723, 0.1992, 0.2139, 0.1884]], device='cuda:0')\n",
      "tensor([[1.1974, 1.2020, 1.2044, 1.2440]], device='cuda:0')\n",
      "tensor([[0.2510, 0.2695, 0.2752, 0.2786]], device='cuda:0')\n",
      "tensor([[0.2836, 0.3277, 0.3246, 0.3347]], device='cuda:0')\n",
      "tensor([[0.4145, 0.4218, 0.4354, 0.4101]], device='cuda:0')\n",
      "tensor([[0.4582, 0.4521, 0.4648, 0.4324]], device='cuda:0')\n",
      "tensor([[0.3075, 0.3675, 0.3347, 0.3342]], device='cuda:0')\n",
      "tensor([[0.0904, 0.1190, 0.1116, 0.1297]], device='cuda:0')\n",
      "tensor([[0.5534, 0.5607, 0.5877, 0.5788]], device='cuda:0')\n",
      "tensor([[0.2532, 0.3144, 0.2847, 0.2793]], device='cuda:0')\n",
      "tensor([[0.5022, 0.5255, 0.4985, 0.5610]], device='cuda:0')\n",
      "tensor([[0.8848, 0.9018, 0.8901, 0.8697]], device='cuda:0')\n",
      "tensor([[0.3477, 0.3641, 0.3637, 0.3525]], device='cuda:0')\n",
      "tensor([[0.8148, 0.8409, 0.8372, 0.8161]], device='cuda:0')\n",
      "tensor([[0.1742, 0.2002, 0.1873, 0.2026]], device='cuda:0')\n",
      "tensor([[0.4952, 0.5021, 0.5036, 0.4879]], device='cuda:0')\n",
      "tensor([[1.0792, 1.0709, 1.0755, 1.0513]], device='cuda:0')\n",
      "tensor([[0.2889, 0.3007, 0.3023, 0.3031]], device='cuda:0')\n",
      "tensor([[0.4049, 0.4075, 0.4186, 0.3881]], device='cuda:0')\n",
      "tensor([[0.5553, 0.5895, 0.5938, 0.5415]], device='cuda:0')\n",
      "tensor([[1.0846, 1.0473, 1.1452, 1.0755]], device='cuda:0')\n",
      "tensor([[0.4493, 0.4578, 0.4593, 0.4711]], device='cuda:0')\n",
      "tensor([[0.9548, 1.0344, 1.0248, 0.9889]], device='cuda:0')\n",
      "tensor([[1.8402, 1.8377, 1.8513, 1.8303]], device='cuda:0')\n",
      "tensor([[1.5757, 1.6114, 1.5799, 1.5660]], device='cuda:0')\n",
      "tensor([[0.2726, 0.3094, 0.3236, 0.3073]], device='cuda:0')\n",
      "tensor([[0.2075, 0.2392, 0.2307, 0.2379]], device='cuda:0')\n",
      "tensor([[0.3286, 0.3561, 0.3685, 0.3472]], device='cuda:0')\n",
      "tensor([[0.8839, 0.8980, 0.8968, 0.8837]], device='cuda:0')\n",
      "tensor([[0.3219, 0.3163, 0.3200, 0.3295]], device='cuda:0')\n",
      "tensor([[1.0276, 1.0531, 1.0686, 1.0352]], device='cuda:0')\n",
      "tensor([[0.6780, 0.6932, 0.7141, 0.6656]], device='cuda:0')\n",
      "tensor([[0.2241, 0.2571, 0.2453, 0.2552]], device='cuda:0')\n",
      "tensor([[1.4902, 1.4511, 1.4477, 1.3982]], device='cuda:0')\n",
      "tensor([[0.2563, 0.2846, 0.2657, 0.2821]], device='cuda:0')\n",
      "tensor([[0.4613, 0.4899, 0.4880, 0.5218]], device='cuda:0')\n",
      "tensor([[1.2997, 1.3183, 1.3186, 1.2556]], device='cuda:0')\n",
      "tensor([[0.1655, 0.2032, 0.2037, 0.2118]], device='cuda:0')\n",
      "tensor([[0.7630, 0.7996, 0.8016, 0.7904]], device='cuda:0')\n",
      "tensor([[0.5746, 0.6016, 0.6228, 0.6221]], device='cuda:0')\n",
      "tensor([[0.4893, 0.5092, 0.4798, 0.5225]], device='cuda:0')\n",
      "tensor([[1.3372, 1.3415, 1.3642, 1.3202]], device='cuda:0')\n",
      "tensor([[0.4489, 0.4862, 0.4978, 0.5389]], device='cuda:0')\n",
      "tensor([[1.0246, 1.0317, 1.0273, 1.0257]], device='cuda:0')\n",
      "tensor([[0.4326, 0.4435, 0.4439, 0.4519]], device='cuda:0')\n",
      "tensor([[0.1742, 0.2002, 0.1873, 0.2026]], device='cuda:0')\n",
      "tensor([[0.2750, 0.3150, 0.2797, 0.2951]], device='cuda:0')\n",
      "tensor([[0.2310, 0.2443, 0.2631, 0.2521]], device='cuda:0')\n",
      "tensor([[0.9698, 0.9837, 1.0063, 0.9975]], device='cuda:0')\n",
      "tensor([[0.2806, 0.2972, 0.3309, 0.2834]], device='cuda:0')\n",
      "tensor([[0.6136, 0.6675, 0.6490, 0.6557]], device='cuda:0')\n",
      "tensor([[0.2822, 0.3396, 0.3546, 0.3153]], device='cuda:0')\n",
      "tensor([[0.3922, 0.3826, 0.4144, 0.3715]], device='cuda:0')\n",
      "tensor([[0.7597, 0.7729, 0.7739, 0.7665]], device='cuda:0')\n",
      "tensor([[0.1070, 0.1362, 0.1528, 0.1230]], device='cuda:0')\n",
      "tensor([[1.3448, 1.4363, 1.4164, 1.3963]], device='cuda:0')\n",
      "tensor([[0.8475, 0.8600, 0.8617, 0.8473]], device='cuda:0')\n",
      "tensor([[0.3319, 0.3407, 0.3553, 0.3410]], device='cuda:0')\n",
      "tensor([[1.0080, 0.9737, 1.0005, 0.9567]], device='cuda:0')\n",
      "tensor([[1.5784, 1.5721, 1.5622, 1.5195]], device='cuda:0')\n",
      "tensor([[1.6206, 1.7307, 1.6446, 1.6409]], device='cuda:0')\n",
      "tensor([[0.6860, 0.7121, 0.6993, 0.6842]], device='cuda:0')\n",
      "tensor([[0.2230, 0.2504, 0.2330, 0.2413]], device='cuda:0')\n",
      "tensor([[0.4591, 0.4391, 0.5293, 0.4544]], device='cuda:0')\n",
      "tensor([[0.2633, 0.3116, 0.2987, 0.2957]], device='cuda:0')\n",
      "tensor([[1.7230, 1.6871, 1.7340, 1.6484]], device='cuda:0')\n",
      "tensor([[0.2241, 0.2571, 0.2453, 0.2552]], device='cuda:0')\n",
      "tensor([[1.5276, 1.5200, 1.5304, 1.4655]], device='cuda:0')\n",
      "tensor([[0.2295, 0.2682, 0.2490, 0.2618]], device='cuda:0')\n",
      "tensor([[1.0998, 1.0627, 1.0499, 1.0376]], device='cuda:0')\n",
      "tensor([[1.3523, 1.3700, 1.3703, 1.3145]], device='cuda:0')\n",
      "tensor([[0.2255, 0.2418, 0.2309, 0.2437]], device='cuda:0')\n",
      "tensor([[1.1406, 1.1366, 1.1808, 1.1147]], device='cuda:0')\n",
      "tensor([[1.6542, 1.7537, 1.6677, 1.6786]], device='cuda:0')\n",
      "tensor([[0.9313, 0.9182, 0.9474, 0.9248]], device='cuda:0')\n",
      "tensor([[0.2946, 0.2916, 0.3055, 0.3292]], device='cuda:0')\n",
      "tensor([[1.4851, 1.4753, 1.5356, 1.4708]], device='cuda:0')\n",
      "tensor([[0.3512, 0.3612, 0.3643, 0.3633]], device='cuda:0')\n",
      "tensor([[0.8327, 0.8279, 0.8603, 0.8220]], device='cuda:0')\n",
      "tensor([[0.5156, 0.5094, 0.5266, 0.4959]], device='cuda:0')\n",
      "tensor([[0.1449, 0.1554, 0.1695, 0.1678]], device='cuda:0')\n",
      "tensor([[0.3846, 0.3911, 0.3793, 0.4062]], device='cuda:0')\n",
      "tensor([[0.8941, 0.8937, 0.9118, 0.8959]], device='cuda:0')\n",
      "tensor([[0.4032, 0.4519, 0.4341, 0.4276]], device='cuda:0')\n",
      "tensor([[1.0749, 1.1528, 1.0898, 1.0799]], device='cuda:0')\n",
      "tensor([[1.3439, 1.3595, 1.3519, 1.3351]], device='cuda:0')\n",
      "tensor([[0.4972, 0.4838, 0.5072, 0.4994]], device='cuda:0')\n",
      "tensor([[1.5169, 1.4903, 1.5070, 1.4847]], device='cuda:0')\n",
      "tensor([[1.6316, 1.6302, 1.6383, 1.5998]], device='cuda:0')\n",
      "tensor([[0.6419, 0.6977, 0.6925, 0.6690]], device='cuda:0')\n",
      "tensor([[1.4730, 1.4820, 1.4549, 1.4639]], device='cuda:0')\n",
      "tensor([[0.2965, 0.3061, 0.3017, 0.3217]], device='cuda:0')\n",
      "tensor([[1.4056, 1.3545, 1.3740, 1.3492]], device='cuda:0')\n",
      "tensor([[1.4558, 1.5270, 1.5043, 1.4874]], device='cuda:0')\n",
      "tensor([[0.4497, 0.4733, 0.4692, 0.4466]], device='cuda:0')\n"
     ]
    },
    {
     "data": {
      "text/plain": [
       "Counter({1: 31, 2: 42, 3: 20, 0: 7})"
      ]
     },
     "execution_count": 23,
     "metadata": {},
     "output_type": "execute_result"
    },
    {
     "data": {
      "image/png": "[encoded data removed]",
      "text/plain": [
       "<Figure size 432x288 with 1 Axes>"
      ]
     },
     "metadata": {
      "needs_background": "light"
     },
     "output_type": "display_data"
    }
   ],
   "source": [
    "from collections import Counter\n",
    "\n",
    "ls = []\n",
    "S_ls = []\n",
    "for _ in range(100):\n",
    "    S = fitter.replay_memory.sample(1)[0][0]\n",
    "    print(fitter.behavior_net(S).data)\n",
    "    #print(fitter.behavior_net(S).argmax().item())\n",
    "    ls.append(fitter.behavior_net(S).argmax().item())\n",
    "    #plt.imshow(S[3])\n",
    "plt.imshow(S[0])\n",
    "Counter(ls)"
   ]
  },
  {
   "cell_type": "markdown",
   "metadata": {},
   "source": [
    " "
   ]
  },
  {
   "cell_type": "code",
   "execution_count": 79,
   "metadata": {},
   "outputs": [],
   "source": [
    "def play_game(fitter):\n",
    "    fitter.reset_episode()\n",
    "    img = plt.imshow(fitter.env.render(mode='rgb_array')) # only call this once\n",
    "    \n",
    "    done=False\n",
    "    while not done:\n",
    "        img.set_data(fitter.env.render(mode='rgb_array')) # just update the data\n",
    "        display.display(plt.gcf())\n",
    "        display.clear_output(wait=True)\n",
    "        \n",
    "        fitter.run_k_frames(is_training=False)\n",
    "    \n",
    "    fitter.env.close()\n",
    "    return"
   ]
  },
  {
   "cell_type": "code",
   "execution_count": 59,
   "metadata": {
    "scrolled": true
   },
   "outputs": [
    {
     "data": {
      "text/plain": [
       "[<matplotlib.lines.Line2D at 0x7f5175a8aa58>]"
      ]
     },
     "execution_count": 59,
     "metadata": {},
     "output_type": "execute_result"
    },
    {
     "data": {
      "image/png": "[encoded data removed]",
      "text/plain": [
       "<Figure size 432x288 with 1 Axes>"
      ]
     },
     "metadata": {
      "needs_background": "light"
     },
     "output_type": "display_data"
    }
   ],
   "source": [
    "plt.plot(fitter.train_reward_ls)"
   ]
  },
  {
   "cell_type": "code",
   "execution_count": 60,
   "metadata": {},
   "outputs": [
    {
     "data": {
      "text/plain": [
       "[<matplotlib.lines.Line2D at 0x7f5175dd9f28>]"
      ]
     },
     "execution_count": 60,
     "metadata": {},
     "output_type": "execute_result"
    },
    {
     "data": {
      "image/png": "[encoded data removed]",
      "text/plain": [
       "<Figure size 432x288 with 1 Axes>"
      ]
     },
     "metadata": {
      "needs_background": "light"
     },
     "output_type": "display_data"
    }
   ],
   "source": [
    "plt.plot(fitter.test_reward_ls)"
   ]
  }
 ],
 "metadata": {
  "kernelspec": {
   "display_name": "tf2",
   "language": "python",
   "name": "tf2"
  }
 },
 "nbformat": 4,
 "nbformat_minor": 2
}
