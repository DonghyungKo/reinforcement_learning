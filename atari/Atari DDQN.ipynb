{
 "cells": [
  {
   "cell_type": "code",
   "execution_count": 1,
   "metadata": {},
   "outputs": [],
   "source": [
    "import torch\n",
    "import torch.nn as nn\n",
    "\n",
    "# Import the gym module\n",
    "import gym\n",
    "import numpy as np\n",
    "import time "
   ]
  },
  {
   "cell_type": "code",
   "execution_count": 2,
   "metadata": {},
   "outputs": [],
   "source": [
    "# Create a breakout environment\n",
    "env = gym.make('BreakoutDeterministic-v4')"
   ]
  },
  {
   "cell_type": "code",
   "execution_count": 3,
   "metadata": {},
   "outputs": [],
   "source": [
    "def preprocess(img):\n",
    "    # 저장할 때는 전처리를 거친 후 np.array 형태로 저장\n",
    "    img = np.mean(img, axis=2).astype(np.uint8) # to gray, uint8 for low memory\n",
    "    img = img[::2, ::2][17:97] # downsample(1/2) & to square\n",
    "    img = np.expand_dims(img, 0) # (1, 80, 80)\n",
    "    return img"
   ]
  },
  {
   "cell_type": "code",
   "execution_count": 4,
   "metadata": {},
   "outputs": [],
   "source": [
    "s = env.reset()\n",
    "\n",
    "s2, _, _, _ = env.step(0)"
   ]
  },
  {
   "cell_type": "code",
   "execution_count": 5,
   "metadata": {},
   "outputs": [],
   "source": [
    "s = env.reset()\n",
    "done = False\n",
    "while not done:\n",
    "    a = env.action_space.sample()\n",
    "    s2, _, done, _ = env.step(a)"
   ]
  },
  {
   "cell_type": "code",
   "execution_count": 6,
   "metadata": {},
   "outputs": [
    {
     "data": {
      "text/plain": [
       "<matplotlib.image.AxesImage at 0x7f412810d6a0>"
      ]
     },
     "execution_count": 6,
     "metadata": {},
     "output_type": "execute_result"
    }
   ],
   "source": [
    "from matplotlib import pyplot as plt\n",
    "plt.imshow(s2)"
   ]
  },
  {
   "cell_type": "code",
   "execution_count": 7,
   "metadata": {},
   "outputs": [
    {
     "data": {
      "text/plain": [
       "<matplotlib.image.AxesImage at 0x7f412801eda0>"
      ]
     },
     "execution_count": 7,
     "metadata": {},
     "output_type": "execute_result"
    },
    {
     "data": {
      "image/png": "[encoded data removed]",
      "text/plain": [
       "<Figure size 432x288 with 1 Axes>"
      ]
     },
     "metadata": {
      "needs_background": "light"
     },
     "output_type": "display_data"
    }
   ],
   "source": [
    "plt.imshow(preprocess(s2)[0])"
   ]
  },
  {
   "cell_type": "code",
   "execution_count": 8,
   "metadata": {},
   "outputs": [],
   "source": [
    "from collections import deque\n",
    "import random \n",
    "\n",
    "class ReplayMemory(object):\n",
    "    def __init__(self, capacity):\n",
    "        self.deque = deque(maxlen=capacity)\n",
    "    \n",
    "    def append(self, state, action, reward, next_state, done):\n",
    "        self.deque.append((state, action, reward, next_state, done))\n",
    "    \n",
    "    def sample(self, batch_size):\n",
    "        return random.sample(self.deque, batch_size)\n",
    "    \n",
    "    def __len__(self):\n",
    "        return len(self.deque)"
   ]
  },
  {
   "cell_type": "code",
   "execution_count": 9,
   "metadata": {},
   "outputs": [],
   "source": [
    "class HistoryTransformer(object):\n",
    "    def __init__(self, n_history=4):\n",
    "        self.n_history = n_history\n",
    "        self.deque = deque(maxlen=n_history)\n",
    "        self.env = gym.make('BreakoutDeterministic-v4')\n",
    "        \n",
    "        # 최초에는 처음 화면(env.reset) 0으로 채워둠\n",
    "        padding_state = preprocess(self.env.reset())\n",
    "        for _ in range(n_history):\n",
    "            self.deque.append(padding_state)\n",
    "    \n",
    "    def preprocess(self, img):\n",
    "        # 저장할 때는 전처리를 거친 후 np.array 형태로 저장\n",
    "        img = np.mean(img, axis=2).astype(np.uint8) # to gray, uint8 for low memory\n",
    "        img = img[::2, ::2][17:97] # downsample(1/2) & to square\n",
    "        img = np.expand_dims(img, 0) # (1, 80, 80)\n",
    "        return img\n",
    "    \n",
    "    def transform(self, s):\n",
    "        # transform할 때 마다, 현재 state를 기록하고, 과거 state를 밀어내면서 저장함\n",
    "        self.deque.append(self.preprocess(s))\n",
    "        return np.stack([self.deque[i] for i in range(self.n_history)], axis=1)\n",
    "    \n",
    "    def __len__(self):\n",
    "        return len(self.deque)"
   ]
  },
  {
   "cell_type": "code",
   "execution_count": 10,
   "metadata": {},
   "outputs": [],
   "source": [
    "class DDQN(nn.Module):\n",
    "    def __init__(self, in_dim, n_action):\n",
    "        super(DDQN, self).__init__()\n",
    "        self.device = torch.device('cuda:0' if torch.cuda.is_available() else 'cpu')\n",
    "        \n",
    "        self.conv = nn.Sequential(\n",
    "            nn.Conv2d(in_dim, 32, (8, 8), stride=4), nn.ReLU(), # conv 1\n",
    "            nn.Conv2d(32, 64, (4, 4), stride=2), nn.ReLU(), # conv 2\n",
    "            nn.Conv2d(64, 64, (3, 3), stride=1), nn.ReLU() # conv 3\n",
    "        )\n",
    "        self.fc = nn.Sequential(\n",
    "            nn.Linear(64*6*6, 512), nn.ReLU(), # hidden layer\n",
    "            nn.Linear(512, n_action)\n",
    "        )\n",
    "        \n",
    "    def to_tensor(self, img):\n",
    "        img = torch.tensor(img, dtype=torch.float32, device=self.device).cuda(non_blocking=True) # to tensor\n",
    "        img /= 255                                   # normalize into 0-1\n",
    "        while img.dim() < 4 :                        # 4-dim\n",
    "            img = img.unsqueeze(0)\n",
    "        return img\n",
    "        \n",
    "    def forward(self, frames):\n",
    "        frames = self.to_tensor(frames) \n",
    "        conved = self.conv(frames)\n",
    "        conved = conved.view(conved.size(0), -1)\n",
    "        output = self.fc(conved)\n",
    "        return output"
   ]
  },
  {
   "cell_type": "code",
   "execution_count": 11,
   "metadata": {},
   "outputs": [
    {
     "data": {
      "text/plain": [
       "DDQN(\n",
       "  (conv): Sequential(\n",
       "    (0): Conv2d(4, 32, kernel_size=(8, 8), stride=(4, 4))\n",
       "    (1): ReLU()\n",
       "    (2): Conv2d(32, 64, kernel_size=(4, 4), stride=(2, 2))\n",
       "    (3): ReLU()\n",
       "    (4): Conv2d(64, 64, kernel_size=(3, 3), stride=(1, 1))\n",
       "    (5): ReLU()\n",
       "  )\n",
       "  (fc): Sequential(\n",
       "    (0): Linear(in_features=2304, out_features=512, bias=True)\n",
       "    (1): ReLU()\n",
       "    (2): Linear(in_features=512, out_features=4, bias=True)\n",
       "  )\n",
       ")"
      ]
     },
     "execution_count": 11,
     "metadata": {},
     "output_type": "execute_result"
    }
   ],
   "source": [
    "behaviorDDQN = DDQN(in_dim=4, n_action=4)\n",
    "targetDDQN = DDQN(in_dim=4, n_action=4)\n",
    "\n",
    "behaviorDDQN.to(behaviorDDQN.device) # model to cuda\n",
    "targetDDQN.to(targetDDQN.device)     # model to cuda"
   ]
  },
  {
   "cell_type": "code",
   "execution_count": 12,
   "metadata": {},
   "outputs": [],
   "source": [
    "class Fitter():\n",
    "    def __init__(self, behaviorDDQN, targetDDQN, n_history=4):\n",
    "        self.behaviorDDQN = behaviorDDQN\n",
    "        self.targetDDQN = targetDDQN\n",
    "        self.out_dim = env.action_space.n\n",
    "        self.env = gym.make('BreakoutDeterministic-v4')\n",
    "        \n",
    "        self.gamma = 0.99\n",
    "        self.criterion = nn.SmoothL1Loss()\n",
    "        self.optim = torch.optim.RMSprop(\n",
    "            self.behaviorDDQN.parameters(), \n",
    "            lr=0.00025,\n",
    "            eps=0.01,\n",
    "            momentum=0.95\n",
    "        )\n",
    "            \n",
    "        \n",
    "    def train(self, train_batch):\n",
    "        batch_size = len(train_batch)\n",
    "        S = np.array([tup[0] for tup in train_batch]).squeeze(1) # states\n",
    "        A = np.array([tup[1] for tup in train_batch]) # actions\n",
    "        R = np.array([tup[2] for tup in train_batch]) # rewards\n",
    "        S_next = np.array([tup[3] for tup in train_batch]).squeeze(1) # next_states \n",
    "        D = np.array([tup[4] for tup in train_batch]) # dones\n",
    "        \n",
    "        q_targets = self.targetDDQN(S)           # Q-values of current state with targetDDQN\n",
    "        q_targets_next = self.targetDDQN(S_next) # Q-values of next state from targetDDQN\n",
    "        next_behavior_network_actions = torch.argmax(self.behaviorDDQN(S_next), dim=1) # choose argmax actions from behaviorDDQN in S_next\n",
    "        \n",
    "        for i in range(batch_size):\n",
    "            a, r, done = A[i], R[i], D[i]\n",
    "            next_action = next_behavior_network_actions[i].item() # choose argmax actions from behaviorDDQN in S_next\n",
    "            if done:\n",
    "                q_targets[i, a] = r\n",
    "            else:\n",
    "                q_targets[i, a] = r + self.gamma*q_targets_next[i, next_action]\n",
    "            \n",
    "        # 예측치(pred)와 목표치(true)\n",
    "        q_behavior = self.behaviorDDQN(S)\n",
    "        \n",
    "        self.optim.zero_grad()\n",
    "        loss = self.criterion(q_targets, q_behavior)\n",
    "        loss.backward()\n",
    "        self.optim.step()\n",
    "        return\n",
    "    \n",
    "    def update_target(self):\n",
    "        self.targetDDQN.load_state_dict(self.behaviorDDQN.state_dict())\n",
    "        return \n",
    "    \n",
    "    def test(self):\n",
    "        temp_hist_transformer = HistoryTransformer()\n",
    "        initial_state = self.env.reset()\n",
    "        n_step = 0\n",
    "        r_sum = 0\n",
    "        done=False\n",
    "        \n",
    "        while not done:\n",
    "            n_step += 1\n",
    "                \n",
    "            # 게임의 맨 처음에는 움직여야 게임이 시작됨\n",
    "            if n_step == 1:\n",
    "                a = random.choice([1,2,3])\n",
    "                s, _, _, _ = self.env.step(a)  \n",
    "                continue\n",
    "            \n",
    "            # 게임이 시작된 후, 공을 놓치면, life가 깍이고 다시 초기화면으로 돌아옴 \n",
    "            # 초기 화면에서는 다시 또 1,2,3 중 임의의 액션을 실행\n",
    "            if np.array_equal(s, initial_state):\n",
    "                a = random.choice([1, 2, 3])\n",
    "            else:\n",
    "                s_trans = temp_hist_transformer.transform(s)\n",
    "                a = torch.argmax(self.behaviorAtari(s_trans)).item()\n",
    "            \n",
    "            s, r, done, _ = self.env.step(a)\n",
    "            r_sum += r\n",
    "            \n",
    "        print('Total Step: %s \\t Total Score: %s'%(n_step, r_sum))\n",
    "        return r_sum"
   ]
  },
  {
   "cell_type": "code",
   "execution_count": 22,
   "metadata": {},
   "outputs": [],
   "source": [
    "fitter = Fitter(behaviorDDQN, targetDDQN)"
   ]
  },
  {
   "cell_type": "code",
   "execution_count": 14,
   "metadata": {},
   "outputs": [],
   "source": [
    "# Create a breakout environment\n",
    "env = gym.make('BreakoutDeterministic-v4')\n",
    "\n",
    "n_frame = 0\n",
    "n_episode = 0\n",
    "batch_size = 32\n",
    "\n",
    "max_memory = 1000000\n",
    "replay_memory = ReplayMemory(max_memory)\n",
    "\n",
    "min_replay = 50000 # 50,000 in the paper\n",
    "reward_ls = []"
   ]
  },
  {
   "cell_type": "code",
   "execution_count": 23,
   "metadata": {},
   "outputs": [],
   "source": [
    "def epsilon_decay(episode_idx):\n",
    "    return np.max([1 - 9.0*1e-07*episode_idx, 0.1])    "
   ]
  },
  {
   "cell_type": "code",
   "execution_count": 24,
   "metadata": {},
   "outputs": [],
   "source": [
    "def grow_batch_size(current_memory):\n",
    "    # grow batch size from 32 to 128 as respect to memory size\n",
    "    memory_ratio = current_memory / max_memory\n",
    "    new_batch_size = int(32 + 96*memory_ratio)\n",
    "    return new_batch_size"
   ]
  },
  {
   "cell_type": "code",
   "execution_count": null,
   "metadata": {
    "scrolled": false
   },
   "outputs": [
    {
     "name": "stdout",
     "output_type": "stream",
     "text": [
      "N_Frame : 881883\n",
      "Total Step: 155 \t Total Score: 1.0\n"
     ]
    }
   ],
   "source": [
    "while n_frame < 15000000 :\n",
    "    n_episode += 1\n",
    "    hist_transformer = HistoryTransformer() # history recorder (past 4 state)\n",
    "    s = env.reset()\n",
    "    s = hist_transformer.transform(s)\n",
    "    e = epsilon_decay(n_frame)\n",
    "    done = False\n",
    "    n_step = 0\n",
    "    \n",
    "    while not done:\n",
    "        n_frame += 1\n",
    "        n_step += 1\n",
    "        \n",
    "        # 초기 화면에서도 역시 일단 움직여야 게임이 시작됨\n",
    "        if n_step == 1:\n",
    "            a = random.choice([1, 2, 3])\n",
    "        else:\n",
    "            # Choose an action by e-greedy\n",
    "            q_pred = fitter.behaviorDDQN(s)\n",
    "            \n",
    "            if np.random.rand(1) < e :\n",
    "                a = env.action_space.sample()\n",
    "            else:\n",
    "                a = torch.argmax(q_pred).item()\n",
    "        \n",
    "        # action 실행 후, replay_memory에 기록\n",
    "        s_next, r, done, _ = env.step(a)\n",
    "        if done:  \n",
    "            r = -10\n",
    "        \n",
    "        # s_next를 변형 후 저장\n",
    "        s_next = hist_transformer.transform(s_next)\n",
    "        replay_memory.append(s, a , r, s_next, done)\n",
    "        \n",
    "        s = s_next\n",
    "        \n",
    "        # minimum replay가 min_replay클 때까지는 학습 안함\n",
    "        if len(replay_memory) < min_replay:\n",
    "            continue\n",
    "        \n",
    "        # 4-th step 마다, 동일한 batch를 4번씩 학습\n",
    "        if n_step%4 == 0:\n",
    "            for _ in range(4):\n",
    "                batch_size = grow_batch_size(len(replay_memory))\n",
    "                mini_batch = replay_memory.sample(batch_size)\n",
    "                loss = fitter.train(mini_batch)\n",
    "\n",
    "    # minimum replay가 min_replay클 때까지는 테스트와 업데이트 안함\n",
    "    if len(replay_memory) < min_replay:\n",
    "        continue\n",
    "\n",
    "    # update target every 5 episode\n",
    "    if n_episode%10 == 0:\n",
    "        fitter.update_target()\n",
    "        \n",
    "    # test every 50 episode\n",
    "    if n_episode%10 == 0:\n",
    "        print('N_Frame : %s'%n_frame)\n",
    "        reward = fitter.test()\n",
    "        reward_ls.append(reward)"
   ]
  },
  {
   "cell_type": "code",
   "execution_count": null,
   "metadata": {},
   "outputs": [],
   "source": []
  }
 ],
 "metadata": {
  "kernelspec": {
   "display_name": "tf2",
   "language": "python",
   "name": "tf2"
  },
  "language_info": {
   "codemirror_mode": {
    "name": "ipython",
    "version": 3
   },
   "file_extension": ".py",
   "mimetype": "text/x-python",
   "name": "python",
   "nbconvert_exporter": "python",
   "pygments_lexer": "ipython3",
   "version": "3.6.8"
  }
 },
 "nbformat": 4,
 "nbformat_minor": 2
}
