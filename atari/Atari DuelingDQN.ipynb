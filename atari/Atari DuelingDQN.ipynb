{
 "cells": [
  {
   "cell_type": "code",
   "execution_count": 1,
   "metadata": {},
   "outputs": [],
   "source": [
    "import torch\n",
    "import torch.nn as nn\n",
    "\n",
    "# Import the gym module\n",
    "import gym\n",
    "import numpy as np\n",
    "import time \n",
    "\n",
    "from matplotlib import pyplot as plt\n",
    "\n",
    "import random\n",
    "\n",
    "import gym\n",
    "from IPython import display\n",
    "import matplotlib\n",
    "import matplotlib.pyplot as plt\n",
    "%matplotlib inline\n",
    "\n",
    "import cv2"
   ]
  },
  {
   "cell_type": "code",
   "execution_count": 2,
   "metadata": {},
   "outputs": [],
   "source": [
    "class NoopResetEnv(gym.Wrapper):\n",
    "    def __init__(self, env, noop_max=30):\n",
    "        '''첫 번째 트릭 No-Operation. 초기화 후 일정 단계에 이를때까지 아무 행동도 하지않고\n",
    "        게임 초기 상태를 다양하게 하여 특정 시작 상태만 학습하는 것을 방지한다'''\n",
    "\n",
    "        gym.Wrapper.__init__(self, env)\n",
    "        self.noop_max = noop_max\n",
    "        self.override_num_noops = None\n",
    "        self.noop_action = 0\n",
    "        assert env.unwrapped.get_action_meanings()[0] == 'NOOP'\n",
    "\n",
    "    def reset(self, **kwargs):\n",
    "        \"\"\" Do no-op action for a number of steps in [1, noop_max].\"\"\"\n",
    "        self.env.reset(**kwargs)\n",
    "        if self.override_num_noops is not None:\n",
    "            noops = self.override_num_noops\n",
    "        else:\n",
    "            noops = self.unwrapped.np_random.randint(\n",
    "                1, self.noop_max + 1)  # pylint: disable=E1101\n",
    "        assert noops > 0\n",
    "        obs = None\n",
    "        for _ in range(noops):\n",
    "            obs, _, done, _ = self.env.step(self.noop_action)\n",
    "            if done:\n",
    "                obs = self.env.reset(**kwargs)\n",
    "        return obs\n",
    "\n",
    "    def step(self, ac):\n",
    "        return self.env.step(ac)\n"
   ]
  },
  {
   "cell_type": "code",
   "execution_count": 3,
   "metadata": {},
   "outputs": [],
   "source": [
    "# Create a breakout environment\n",
    "env = gym.make('BreakoutNoFrameskip-v4')\n",
    "env = NoopResetEnv(env, noop_max=30)"
   ]
  },
  {
   "cell_type": "code",
   "execution_count": 4,
   "metadata": {},
   "outputs": [],
   "source": [
    "def preprocess(img):\n",
    "    img = cv2.cvtColor(img, cv2.COLOR_RGB2GRAY)\n",
    "    img = cv2.resize(img, (84, 84), interpolation=cv2.INTER_AREA)\n",
    "    return np.expand_dims(img, 0) # (1, 80, 80)"
   ]
  },
  {
   "cell_type": "code",
   "execution_count": 5,
   "metadata": {},
   "outputs": [
    {
     "data": {
      "image/png": "[encoded data removed]",
      "text/plain": [
       "<Figure size 432x288 with 1 Axes>"
      ]
     },
     "metadata": {
      "needs_background": "light"
     },
     "output_type": "display_data"
    }
   ],
   "source": [
    "env.reset()\n",
    "img = plt.imshow(env.render(mode='rgb_array')) # only call this once\n",
    "for _ in range(30):\n",
    "    img.set_data(env.render(mode='rgb_array')) # just update the data\n",
    "    display.display(plt.gcf())\n",
    "    display.clear_output(wait=True)\n",
    "    action = env.action_space.sample()\n",
    "    env.step(action)"
   ]
  },
  {
   "cell_type": "code",
   "execution_count": 6,
   "metadata": {},
   "outputs": [
    {
     "data": {
      "text/plain": [
       "<matplotlib.image.AxesImage at 0x7fabc0534a58>"
      ]
     },
     "execution_count": 6,
     "metadata": {},
     "output_type": "execute_result"
    },
    {
     "data": {
      "image/png": "[encoded data removed]",
      "text/plain": [
       "<Figure size 432x288 with 1 Axes>"
      ]
     },
     "metadata": {
      "needs_background": "light"
     },
     "output_type": "display_data"
    }
   ],
   "source": [
    "env.reset()\n",
    "for _ in range(30):\n",
    "    s, _, _, _ = env.step(env.action_space.sample())\n",
    "\n",
    "plt.imshow(preprocess(s)[0])"
   ]
  },
  {
   "cell_type": "code",
   "execution_count": 7,
   "metadata": {},
   "outputs": [],
   "source": [
    "from collections import deque\n",
    "import random \n",
    "\n",
    "class ReplayMemory(object):\n",
    "    def __init__(self, capacity):\n",
    "        self.deque = deque(maxlen=capacity)\n",
    "\n",
    "    def append(self, state, action, reward, next_state, done):\n",
    "        self.deque.append((state, action, reward, next_state, done))\n",
    "    \n",
    "    def sample(self, batch_size):\n",
    "        state, action, reward, next_state, done = zip(*random.sample(self.deque, batch_size))\n",
    "        return np.concatenate(state), action, reward, np.concatenate(next_state), done\n",
    "    \n",
    "    def __len__(self):\n",
    "        return len(self.deque)"
   ]
  },
  {
   "cell_type": "code",
   "execution_count": 8,
   "metadata": {},
   "outputs": [],
   "source": [
    "class FrameHistory(object):\n",
    "    # consecutive frame을 4개씩 병합하여 새로운 x를 하나씩 만드는 클래스\n",
    "    # 만들어진 x는 4개씩 concat하고 s를 만들어서 DQN의 input으로 들어감\n",
    "    def __init__(self, env, k=4):\n",
    "        self.state_deque = deque(maxlen=k) # [x1, x2, x3, x4]\n",
    "        self.frame_history_deque = deque(maxlen=k) #[s1, s2, s3, s4]\n",
    "        self.k = k\n",
    "        \n",
    "        # 최초에는 초기 화면(env.reset)으로 채워둠\n",
    "        self.env = env\n",
    "        self.initial_state = self.preprocess(self.env.reset())\n",
    "        self.reset()\n",
    "        \n",
    "    def preprocess(self, img):\n",
    "        img = cv2.cvtColor(img, cv2.COLOR_RGB2GRAY)\n",
    "        img = cv2.resize(img, (84, 84), interpolation=cv2.INTER_AREA)\n",
    "        return np.expand_dims(img, 0) # (1, 80, 80)\n",
    "    \n",
    "    def append_frame(self, s):\n",
    "        # if full, aggregate and clear old frames, append new frame to history queue\n",
    "        self.frame_history_deque.append(self.preprocess(s))\n",
    "        \n",
    "        if len(self) == self.k:\n",
    "            self.state_deque.append(self.aggregate_frame())\n",
    "        return\n",
    "        \n",
    "    def aggregate_frame(self):\n",
    "        if len(self) < self.k:\n",
    "            raise ValueError('not enough frames in history, expected %s, but got %s'%(self.k, len(self)))\n",
    "        \n",
    "        # element-wise maximum to aggregate\n",
    "        frame_history = [self.frame_history_deque.popleft() for _ in range(self.k)]\n",
    "        return np.maximum.reduce(frame_history[-2:]) #마지막 2 프레임 사용 \n",
    "    \n",
    "    def get_state(self):\n",
    "        S = np.array([self.state_deque[i] for i in range(self.k)]) # S = [x1, x2, x3, x4], (4, 1, 80, 80)\n",
    "        S = np.swapaxes(S, 0, 1) # (1, 4, 80, 80)\n",
    "        return S\n",
    "    \n",
    "    def reset(self):\n",
    "        self.frame_history_deque = deque(maxlen=k)\n",
    "        self.state_deque = deque(maxlen=k)\n",
    "        \n",
    "        for _ in range(self.k):\n",
    "            self.state_deque.append(self.initial_state)\n",
    "    \n",
    "    def __len__(self):\n",
    "        return len(self.frame_history_deque)"
   ]
  },
  {
   "cell_type": "code",
   "execution_count": 9,
   "metadata": {},
   "outputs": [],
   "source": [
    "class DDQN(nn.Module):\n",
    "    # Dueling DQN\n",
    "    def __init__(self, in_dim, n_action):\n",
    "        super(DDQN, self).__init__()\n",
    "        self.device = torch.device('cuda:0' if torch.cuda.is_available() else 'cpu')\n",
    "        \n",
    "        self.conv = nn.Sequential(\n",
    "            nn.Conv2d(in_dim, 32, (8, 8), stride=4), nn.ReLU(), # conv 1\n",
    "            nn.Conv2d(32, 64, (4, 4), stride=2), nn.ReLU(), # conv 2\n",
    "            nn.Conv2d(64, 64, (3, 3), stride=1), nn.ReLU() # conv 3\n",
    "        )\n",
    "        # V(s) : value-stream\n",
    "        self.value_stream = nn.Sequential(\n",
    "            nn.Linear(64*7*7, 512), nn.ReLU(), # hidden layer\n",
    "            nn.Linear(512, 1)\n",
    "        )\n",
    "        \n",
    "        # A(s,a) : action-stream\n",
    "        self.action_stream = nn.Sequential(\n",
    "            nn.Linear(64*7*7, 512), nn.ReLU(),\n",
    "            nn.Linear(512, n_action)\n",
    "        )\n",
    "        \n",
    "    def prep_for_input(self, img):\n",
    "        img = torch.tensor(img, dtype=torch.float32, device=self.device).cuda(non_blocking=True) # to tensor\n",
    "        img /= 255                                   # normalize into 0-1\n",
    "        while img.dim() < 4 :                        # 4-dim\n",
    "            img = img.unsqueeze(0)\n",
    "        return img\n",
    "        \n",
    "    def forward(self, frames):\n",
    "        frames = self.prep_for_input(frames) \n",
    "        conved = self.conv(frames)\n",
    "        conved = conved.view(conved.size(0), -1)\n",
    "        \n",
    "        # key of Dueling DQN : Q(s,a_i) = V(S) + A(s,a_i) - mean(A)\n",
    "        value = self.value_stream(conved) # V(s), dim=(batch_size, 1)\n",
    "        action = self.action_stream(conved) # A(s,a), dim=(batch_size, n_action)\n",
    "        \n",
    "        output = value + (action - torch.mean(action, dim=1, keepdim=True)) # V(s) + (A(s,a_i) - mean(A)), dim=(batch_size, n_action)\n",
    "        return output"
   ]
  },
  {
   "cell_type": "code",
   "execution_count": 10,
   "metadata": {},
   "outputs": [],
   "source": [
    "import torch.nn.init as init\n",
    "\n",
    "def weight_init(m):\n",
    "    '''\n",
    "    Usage:\n",
    "        model = Model()\n",
    "        model.apply(weight_init)\n",
    "    '''\n",
    "    if isinstance(m, nn.Conv2d):\n",
    "        init.xavier_normal_(m.weight.data)\n",
    "        if m.bias is not None:\n",
    "            init.normal_(m.bias.data)\n",
    "\n",
    "    elif isinstance(m, nn.Linear):\n",
    "        init.xavier_normal_(m.weight.data)\n",
    "        init.normal_(m.bias.data)\n",
    "    \n",
    "    return"
   ]
  },
  {
   "cell_type": "code",
   "execution_count": 11,
   "metadata": {
    "scrolled": true
   },
   "outputs": [
    {
     "data": {
      "text/plain": [
       "DDQN(\n",
       "  (conv): Sequential(\n",
       "    (0): Conv2d(4, 32, kernel_size=(8, 8), stride=(4, 4))\n",
       "    (1): ReLU()\n",
       "    (2): Conv2d(32, 64, kernel_size=(4, 4), stride=(2, 2))\n",
       "    (3): ReLU()\n",
       "    (4): Conv2d(64, 64, kernel_size=(3, 3), stride=(1, 1))\n",
       "    (5): ReLU()\n",
       "  )\n",
       "  (value_stream): Sequential(\n",
       "    (0): Linear(in_features=3136, out_features=512, bias=True)\n",
       "    (1): ReLU()\n",
       "    (2): Linear(in_features=512, out_features=1, bias=True)\n",
       "  )\n",
       "  (action_stream): Sequential(\n",
       "    (0): Linear(in_features=3136, out_features=512, bias=True)\n",
       "    (1): ReLU()\n",
       "    (2): Linear(in_features=512, out_features=4, bias=True)\n",
       "  )\n",
       ")"
      ]
     },
     "execution_count": 11,
     "metadata": {},
     "output_type": "execute_result"
    }
   ],
   "source": [
    "#############\n",
    "k = 4 ## number of skipped frame\n",
    "#############\n",
    "\n",
    "behavior_net = DDQN(in_dim=k, n_action=4)\n",
    "target_net = DDQN(in_dim=k, n_action=4)\n",
    "\n",
    "behavior_net.to(behavior_net.device) # model to cuda\n",
    "target_net.to(target_net.device)     # model to cuda\n",
    "\n",
    "behavior_net.apply(weight_init)\n",
    "target_net.apply(weight_init)"
   ]
  },
  {
   "cell_type": "code",
   "execution_count": 12,
   "metadata": {},
   "outputs": [],
   "source": [
    "class Fitter():\n",
    "    def __init__(self, env, behavior_net, target_net, k=4, train_method='DQN'):\n",
    "        self.env = env\n",
    "        self.train_method = train_method\n",
    "        self.device = 'cuda:0' if torch.cuda.is_available() else 'cpu'\n",
    "\n",
    "        # networks\n",
    "        self.behavior_net = behavior_net\n",
    "        self.target_net = target_net\n",
    "        self.behavior_net.to(self.behavior_net.device) # model to cuda\n",
    "        self.target_net.to(self.target_net.device)     # model to cuda\n",
    "        \n",
    "        # train parameters\n",
    "        self.gamma = 0.99 #as written in paper\n",
    "        self.criterion = nn.SmoothL1Loss() # huber loss (error-clipping)\n",
    "        self.optim = torch.optim.RMSprop(self.behavior_net.parameters(), lr=0.00025, alpha=0.95, eps=0.01) #as written in paper in Rainbow\n",
    "        self.k = k\n",
    "        \n",
    "        # train details\n",
    "        self.total_frame = 0\n",
    "        self.total_episode = 0\n",
    "        \n",
    "        self.test_e = 0.05\n",
    "        self.batch_size = 32\n",
    "        self.max_replay = 250000 # not as written in paper\n",
    "        self.min_replay = 50000 # not as written in the paper\n",
    "        self.replay_memory = ReplayMemory(self.max_replay)\n",
    "        self.frame_history = FrameHistory(env=self.env, k=self.k)\n",
    "        \n",
    "        self.train_reward_ls = []\n",
    "        self.test_reward_ls = []\n",
    "    \n",
    "    # train-epsilon\n",
    "    @property\n",
    "    def train_e(self):\n",
    "        return np.max([1 - 9.0*1e-07*self.total_frame, 0.1])\n",
    "    \n",
    "    \n",
    "    def reset_episode(self):\n",
    "        # game(episode) begins\n",
    "        self.env.reset()  \n",
    "        self.frame_history.reset() #frame history reset\n",
    "        self.current_episode_frame = 0         # each episode의 frame 수 \n",
    "        self.current_episode_reward = 0        # each episode의 reward 합\n",
    "    \n",
    "    \n",
    "    def choose_action(self, S, is_training=True):\n",
    "        if is_training:\n",
    "            epsilon = self.train_e\n",
    "        else:\n",
    "            epsilon = self.test_e\n",
    "        # at the beginning of an episode, do something\n",
    "        if self.current_episode_frame == 0:\n",
    "            a = 1\n",
    "        else:\n",
    "            # Choose an action by e-greedy\n",
    "            if np.random.rand(1) < epsilon :\n",
    "                a = self.env.action_space.sample()\n",
    "            else:\n",
    "                q_behavior = self.behavior_net(S)\n",
    "                a = torch.argmax(q_behavior).item()\n",
    "        return a\n",
    "    \n",
    "    \n",
    "    def run_k_frames(self, is_training=True):\n",
    "        # choose action!\n",
    "        S = self.frame_history.get_state()\n",
    "        a = self.choose_action(S, is_training=is_training)\n",
    "        r_sum = 0\n",
    "        \n",
    "        # repeat the action k-times\n",
    "        for _ in range(self.k):\n",
    "            s_next, r, done, _ = self.env.step(a)\n",
    "            self.frame_history.append_frame(s_next)\n",
    "            r_sum += self.clip_reward(r) # store clipped reward for future training replay(experience)\n",
    "            \n",
    "            # accumulate history\n",
    "            self.current_episode_frame += 1\n",
    "            self.current_episode_reward += r\n",
    "            \n",
    "            # if episode(game) ends, return done(True)\n",
    "            if done: \n",
    "                return done\n",
    "            \n",
    "        # concat last k-frames into a next state S_next\n",
    "        S_next = self.frame_history.get_state()\n",
    "        self.replay_memory.append(S, a, r_sum, S_next, done) # save replay(experience)\n",
    "        return done\n",
    "\n",
    "    \n",
    "    def train(self, max_total_frame):\n",
    "        while self.total_frame < max_total_frame :\n",
    "            # episode starts!\n",
    "            self.reset_episode()\n",
    "            \n",
    "            done = False\n",
    "            while not done:\n",
    "                done = self.run_k_frames(is_training=True)\n",
    "                \n",
    "                # training when enough replay-memory, every k-frames\n",
    "                if len(self.replay_memory) > self.min_replay:\n",
    "                    self.train_batch(self.batch_size)   \n",
    "                    self.total_frame += self.k\n",
    "                    \n",
    "                    # update target_net every 10,000 updates\n",
    "                    if self.total_frame%(self.k*10000)== 0 :\n",
    "                        self.update_target()\n",
    "                \n",
    "            # single-episode(game) is now done\n",
    "            # if not enough memory, save more\n",
    "            if len(self.replay_memory) < self.min_replay:\n",
    "                print('Not enough replay yet, expected more than %s, but %s instead'%(self.min_replay, len(self.replay_memory)))\n",
    "            \n",
    "            # if enough memory, print train result\n",
    "            else:\n",
    "                print('Train Episode :%s, Total Frame : %s, Train reward : %s,'%(self.total_episode, self.total_frame, self.current_episode_reward))\n",
    "                self.total_episode += 1\n",
    "                self.train_reward_ls.append(self.current_episode_reward)\n",
    "            \n",
    "                # testing, every 10 episodes when enough replay\n",
    "                if self.total_episode%10 == 0:\n",
    "                    self.test()           \n",
    "\n",
    "    def train_batch(self, batch_size):\n",
    "        # get mini-batch from replay-memory\n",
    "        S, A, R, S_next, D = self.replay_memory.sample(batch_size)\n",
    "        A = self.to_tensor(A, dtype=torch.long)\n",
    "        R = self.to_tensor(R, dtype=torch.float32)\n",
    "        D = self.to_tensor(D, dtype=torch.float32)\n",
    "        \n",
    "        q_behaviors = self.behavior_net(S)                # Q-values for every possible actions\n",
    "        q_behavior = self.select_indices(q_behaviors, A) # select Q-value for given actions\n",
    "        \n",
    "        if self.train_method=='DQN':\n",
    "            q_targets_next = self.target_net(S_next)   # Q-values of every possible actions next state (targetDQN)\n",
    "            q_target_next = q_targets_next.max(1)[0]   # max Q-values of next state\n",
    "            q_target = R + self.gamma*q_target_next*(1-D) \n",
    "        \n",
    "        elif self.train_method=='DoubleDQN':\n",
    "            next_actions = torch.argmax(self.behavior_net(S_next), dim=1) # choose argmax behavior actions at S_next\n",
    "            \n",
    "            q_targets_next = self.target_net(S_next) # cal Q-values of every possible actions next state (targetDQN)\n",
    "            q_target_next = self.select_indices(q_targets_next, next_actions) # select Q-value for next behavior actions\n",
    "            q_target = R + self.gamma*q_target_next*(1-D)\n",
    "        \n",
    "        # update weights\n",
    "        self.optim.zero_grad()\n",
    "        loss = self.criterion(q_target, q_behavior)\n",
    "        loss.backward()\n",
    "        self.optim.step()\n",
    "        return\n",
    "        \n",
    "    def to_tensor(self, x, dtype=torch.float):\n",
    "        return torch.tensor(x, dtype=dtype, device=self.device)\n",
    "    \n",
    "    def select_indices(self, tensor, indices, dim=1):\n",
    "        if type(indices) != torch.Tensor:\n",
    "            indices = self.to_tensor(indices, dtype=torch.long)\n",
    "        if indices.dim() < 2 :\n",
    "            indices = indices.unsqueeze(1)\n",
    "        return tensor.gather(dim, indices).squeeze(1)\n",
    "    \n",
    "    def clip_reward(self, r):\n",
    "        return np.sign(r)\n",
    "    \n",
    "    \n",
    "    def update_target(self):\n",
    "        print('Update Target')\n",
    "        self.target_net.load_state_dict(self.behavior_net.state_dict())\n",
    "        return \n",
    "    \n",
    "    def test(self):\n",
    "        self.reset_episode()\n",
    "        done=False\n",
    "        while not done:\n",
    "            done = self.run_k_frames(is_training=False) # e-greedy\n",
    "                \n",
    "        self.test_reward_ls.append(self.current_episode_reward)\n",
    "        print('※Test※ \\t Frames: %s \\t Score: %s'%(self.current_episode_frame, self.current_episode_reward))\n",
    "        return"
   ]
  },
  {
   "cell_type": "code",
   "execution_count": 13,
   "metadata": {},
   "outputs": [],
   "source": [
    "fitter = Fitter(env, behavior_net, target_net, k=k, train_method='DoubleDQN')"
   ]
  },
  {
   "cell_type": "code",
   "execution_count": null,
   "metadata": {
    "scrolled": true
   },
   "outputs": [
    {
     "name": "stdout",
     "output_type": "stream",
     "text": [
      "Train Episode :4296, Total Frame : 3550232, Train reward : 0.0,\n",
      "Train Episode :4297, Total Frame : 3550912, Train reward : 0.0,\n",
      "Train Episode :4298, Total Frame : 3551488, Train reward : 0.0,\n",
      "Train Episode :4299, Total Frame : 3552300, Train reward : 1.0,\n",
      "※Test※ \t Frames: 2265 \t Score: 0.0\n",
      "Train Episode :4300, Total Frame : 3553492, Train reward : 3.0,\n",
      "Train Episode :4301, Total Frame : 3554224, Train reward : 1.0,\n",
      "Train Episode :4302, Total Frame : 3555676, Train reward : 5.0,\n",
      "Train Episode :4303, Total Frame : 3556716, Train reward : 2.0,\n",
      "Train Episode :4304, Total Frame : 3557676, Train reward : 2.0,\n",
      "Train Episode :4305, Total Frame : 3558344, Train reward : 1.0,\n",
      "Train Episode :4306, Total Frame : 3559316, Train reward : 2.0,\n",
      "Update Target\n",
      "Train Episode :4307, Total Frame : 3560076, Train reward : 2.0,\n",
      "Train Episode :4308, Total Frame : 3560760, Train reward : 1.0,\n",
      "Train Episode :4309, Total Frame : 3561684, Train reward : 2.0,\n",
      "※Test※ \t Frames: 1901 \t Score: 0.0\n",
      "Train Episode :4310, Total Frame : 3562208, Train reward : 0.0,\n",
      "Train Episode :4311, Total Frame : 3563116, Train reward : 1.0,\n",
      "Train Episode :4312, Total Frame : 3564116, Train reward : 0.0,\n",
      "Train Episode :4313, Total Frame : 3564876, Train reward : 1.0,\n"
     ]
    }
   ],
   "source": [
    "max_frame = 50000000\n",
    "fitter.train(max_frame)"
   ]
  },
  {
   "cell_type": "code",
   "execution_count": 21,
   "metadata": {},
   "outputs": [
    {
     "data": {
      "text/plain": [
       "[<matplotlib.lines.Line2D at 0x7fab15332be0>]"
      ]
     },
     "execution_count": 21,
     "metadata": {},
     "output_type": "execute_result"
    },
    {
     "data": {
      "image/png": "[encoded data removed]",
      "text/plain": [
       "<Figure size 432x288 with 1 Axes>"
      ]
     },
     "metadata": {
      "needs_background": "light"
     },
     "output_type": "display_data"
    }
   ],
   "source": [
    "plt.plot(fitter.train_reward_ls)"
   ]
  },
  {
   "cell_type": "code",
   "execution_count": 22,
   "metadata": {
    "scrolled": true
   },
   "outputs": [
    {
     "name": "stdout",
     "output_type": "stream",
     "text": [
      "tensor([[-1.7072, -1.7070, -1.7101, -1.6940]], device='cuda:0')\n",
      "tensor([[-1.7092, -1.7079, -1.7125, -1.6955]], device='cuda:0')\n",
      "tensor([[-1.7086, -1.7080, -1.7121, -1.6953]], device='cuda:0')\n",
      "tensor([[-1.7080, -1.7067, -1.7105, -1.6944]], device='cuda:0')\n",
      "tensor([[-1.7092, -1.7079, -1.7125, -1.6955]], device='cuda:0')\n",
      "tensor([[-1.7075, -1.7074, -1.7113, -1.6944]], device='cuda:0')\n",
      "tensor([[-1.7090, -1.7076, -1.7117, -1.6954]], device='cuda:0')\n",
      "tensor([[-1.7084, -1.7078, -1.7119, -1.6953]], device='cuda:0')\n",
      "tensor([[-1.7087, -1.7080, -1.7122, -1.6953]], device='cuda:0')\n",
      "tensor([[-1.7088, -1.7081, -1.7125, -1.6957]], device='cuda:0')\n",
      "tensor([[-1.7073, -1.7070, -1.7102, -1.6941]], device='cuda:0')\n",
      "tensor([[-1.7075, -1.7069, -1.7101, -1.6942]], device='cuda:0')\n",
      "tensor([[-1.7094, -1.7077, -1.7125, -1.6958]], device='cuda:0')\n",
      "tensor([[-1.7077, -1.7072, -1.7113, -1.6938]], device='cuda:0')\n",
      "tensor([[-1.7088, -1.7079, -1.7120, -1.6955]], device='cuda:0')\n",
      "tensor([[-1.7069, -1.7071, -1.7101, -1.6937]], device='cuda:0')\n",
      "tensor([[-1.7086, -1.7080, -1.7121, -1.6953]], device='cuda:0')\n",
      "tensor([[-1.7090, -1.7066, -1.7107, -1.6948]], device='cuda:0')\n",
      "tensor([[-1.7066, -1.7054, -1.7094, -1.6922]], device='cuda:0')\n",
      "tensor([[-1.7088, -1.7079, -1.7121, -1.6954]], device='cuda:0')\n",
      "tensor([[-1.7093, -1.7078, -1.7124, -1.6956]], device='cuda:0')\n",
      "tensor([[-1.7077, -1.7074, -1.7113, -1.6945]], device='cuda:0')\n",
      "tensor([[-1.7092, -1.7068, -1.7114, -1.6948]], device='cuda:0')\n",
      "tensor([[-1.7084, -1.7080, -1.7121, -1.6953]], device='cuda:0')\n",
      "tensor([[-1.7079, -1.7072, -1.7111, -1.6945]], device='cuda:0')\n",
      "tensor([[-1.7086, -1.7080, -1.7121, -1.6953]], device='cuda:0')\n",
      "tensor([[-1.7106, -1.7073, -1.7122, -1.6960]], device='cuda:0')\n",
      "tensor([[-1.7069, -1.7072, -1.7102, -1.6937]], device='cuda:0')\n",
      "tensor([[-1.7078, -1.7070, -1.7105, -1.6945]], device='cuda:0')\n",
      "tensor([[-1.7092, -1.7079, -1.7125, -1.6955]], device='cuda:0')\n",
      "tensor([[-1.7050, -1.7076, -1.7086, -1.6932]], device='cuda:0')\n",
      "tensor([[-1.7088, -1.7083, -1.7125, -1.6959]], device='cuda:0')\n",
      "tensor([[-1.7099, -1.7079, -1.7124, -1.6958]], device='cuda:0')\n",
      "tensor([[-1.7078, -1.7079, -1.7117, -1.6943]], device='cuda:0')\n",
      "tensor([[-1.7089, -1.7079, -1.7124, -1.6955]], device='cuda:0')\n",
      "tensor([[-1.7085, -1.7079, -1.7120, -1.6953]], device='cuda:0')\n",
      "tensor([[-1.7097, -1.7077, -1.7123, -1.6958]], device='cuda:0')\n",
      "tensor([[-1.7091, -1.7079, -1.7124, -1.6954]], device='cuda:0')\n",
      "tensor([[-1.7084, -1.7080, -1.7120, -1.6953]], device='cuda:0')\n",
      "tensor([[-1.7087, -1.7062, -1.7104, -1.6946]], device='cuda:0')\n",
      "tensor([[-1.7089, -1.7081, -1.7125, -1.6958]], device='cuda:0')\n",
      "tensor([[-1.7091, -1.7079, -1.7124, -1.6954]], device='cuda:0')\n",
      "tensor([[-1.7072, -1.7049, -1.7089, -1.6923]], device='cuda:0')\n",
      "tensor([[-1.7075, -1.7074, -1.7108, -1.6943]], device='cuda:0')\n",
      "tensor([[-1.7078, -1.7067, -1.7101, -1.6943]], device='cuda:0')\n",
      "tensor([[-1.7087, -1.7065, -1.7105, -1.6947]], device='cuda:0')\n",
      "tensor([[-1.7091, -1.7078, -1.7123, -1.6955]], device='cuda:0')\n",
      "tensor([[-1.7091, -1.7078, -1.7124, -1.6955]], device='cuda:0')\n",
      "tensor([[-1.7091, -1.7078, -1.7123, -1.6955]], device='cuda:0')\n",
      "tensor([[-1.7101, -1.7078, -1.7124, -1.6959]], device='cuda:0')\n",
      "tensor([[-1.7099, -1.7074, -1.7125, -1.6958]], device='cuda:0')\n",
      "tensor([[-1.7081, -1.7077, -1.7115, -1.6947]], device='cuda:0')\n",
      "tensor([[-1.7091, -1.7079, -1.7124, -1.6954]], device='cuda:0')\n",
      "tensor([[-1.7086, -1.7080, -1.7122, -1.6952]], device='cuda:0')\n",
      "tensor([[-1.7086, -1.7082, -1.7125, -1.6957]], device='cuda:0')\n",
      "tensor([[-1.7098, -1.7077, -1.7122, -1.6958]], device='cuda:0')\n",
      "tensor([[-1.7092, -1.7079, -1.7125, -1.6955]], device='cuda:0')\n",
      "tensor([[-1.7085, -1.7080, -1.7121, -1.6951]], device='cuda:0')\n",
      "tensor([[-1.7085, -1.7079, -1.7120, -1.6953]], device='cuda:0')\n",
      "tensor([[-1.7068, -1.7072, -1.7102, -1.6938]], device='cuda:0')\n",
      "tensor([[-1.7067, -1.7080, -1.7113, -1.6944]], device='cuda:0')\n",
      "tensor([[-1.7081, -1.7068, -1.7108, -1.6943]], device='cuda:0')\n",
      "tensor([[-1.7084, -1.7073, -1.7116, -1.6947]], device='cuda:0')\n",
      "tensor([[-1.7100, -1.7077, -1.7123, -1.6957]], device='cuda:0')\n",
      "tensor([[-1.7085, -1.7079, -1.7120, -1.6953]], device='cuda:0')\n",
      "tensor([[-1.7086, -1.7071, -1.7113, -1.6947]], device='cuda:0')\n",
      "tensor([[-1.7085, -1.7080, -1.7121, -1.6951]], device='cuda:0')\n",
      "tensor([[-1.7096, -1.7077, -1.7123, -1.6961]], device='cuda:0')\n",
      "tensor([[-1.7097, -1.7078, -1.7124, -1.6958]], device='cuda:0')\n",
      "tensor([[-1.7091, -1.7081, -1.7125, -1.6960]], device='cuda:0')\n",
      "tensor([[-1.7086, -1.7080, -1.7121, -1.6953]], device='cuda:0')\n",
      "tensor([[-1.7084, -1.7085, -1.7124, -1.6955]], device='cuda:0')\n",
      "tensor([[-1.7072, -1.7077, -1.7113, -1.6941]], device='cuda:0')\n",
      "tensor([[-1.7072, -1.7066, -1.7104, -1.6930]], device='cuda:0')\n",
      "tensor([[-1.7102, -1.7074, -1.7124, -1.6960]], device='cuda:0')\n",
      "tensor([[-1.7090, -1.7080, -1.7122, -1.6955]], device='cuda:0')\n",
      "tensor([[-1.7086, -1.7080, -1.7121, -1.6951]], device='cuda:0')\n",
      "tensor([[-1.7093, -1.7079, -1.7124, -1.6960]], device='cuda:0')\n",
      "tensor([[-1.7082, -1.7084, -1.7124, -1.6957]], device='cuda:0')\n",
      "tensor([[-1.7082, -1.7070, -1.7109, -1.6946]], device='cuda:0')\n",
      "tensor([[-1.7086, -1.7080, -1.7121, -1.6953]], device='cuda:0')\n",
      "tensor([[-1.7098, -1.7075, -1.7122, -1.6959]], device='cuda:0')\n",
      "tensor([[-1.7079, -1.7068, -1.7105, -1.6943]], device='cuda:0')\n",
      "tensor([[-1.7075, -1.7078, -1.7115, -1.6942]], device='cuda:0')\n",
      "tensor([[-1.7085, -1.7079, -1.7120, -1.6953]], device='cuda:0')\n",
      "tensor([[-1.7081, -1.7062, -1.7103, -1.6942]], device='cuda:0')\n",
      "tensor([[-1.7085, -1.7077, -1.7120, -1.6946]], device='cuda:0')\n",
      "tensor([[-1.7107, -1.7072, -1.7122, -1.6961]], device='cuda:0')\n",
      "tensor([[-1.7090, -1.7066, -1.7106, -1.6949]], device='cuda:0')\n",
      "tensor([[-1.7073, -1.7078, -1.7114, -1.6942]], device='cuda:0')\n",
      "tensor([[-1.7085, -1.7079, -1.7121, -1.6951]], device='cuda:0')\n",
      "tensor([[-1.7086, -1.7080, -1.7121, -1.6953]], device='cuda:0')\n",
      "tensor([[-1.7101, -1.7078, -1.7127, -1.6960]], device='cuda:0')\n",
      "tensor([[-1.7092, -1.7078, -1.7125, -1.6954]], device='cuda:0')\n",
      "tensor([[-1.7083, -1.7080, -1.7120, -1.6951]], device='cuda:0')\n",
      "tensor([[-1.7088, -1.7079, -1.7121, -1.6954]], device='cuda:0')\n",
      "tensor([[-1.7083, -1.7083, -1.7122, -1.6956]], device='cuda:0')\n",
      "tensor([[-1.7089, -1.7078, -1.7125, -1.6957]], device='cuda:0')\n",
      "tensor([[-1.7094, -1.7078, -1.7124, -1.6956]], device='cuda:0')\n",
      "tensor([[-1.7100, -1.7076, -1.7125, -1.6958]], device='cuda:0')\n"
     ]
    },
    {
     "data": {
      "text/plain": [
       "Counter({3: 100})"
      ]
     },
     "execution_count": 22,
     "metadata": {},
     "output_type": "execute_result"
    }
   ],
   "source": [
    "from collections import Counter\n",
    "\n",
    "ls = []\n",
    "for _ in range(100):\n",
    "    S = fitter.replay_memory.sample(1)[0][0]\n",
    "    print(fitter.behavior_net(S).data)\n",
    "    #print(fitter.behavior_net(S).argmax().item())\n",
    "    ls.append(torch.argmax(fitter.behavior_net(S), dim=1).item())\n",
    "    #plt.imshow(S[3])\n",
    "#plt.imshow(S[0])\n",
    "Counter(ls)"
   ]
  },
  {
   "cell_type": "code",
   "execution_count": 80,
   "metadata": {},
   "outputs": [
    {
     "data": {
      "text/plain": [
       "<matplotlib.image.AxesImage at 0x7f4ca88f85f8>"
      ]
     },
     "execution_count": 80,
     "metadata": {},
     "output_type": "execute_result"
    },
    {
     "data": {
      "image/png": "[encoded data removed]",
      "text/plain": [
       "<Figure size 432x288 with 1 Axes>"
      ]
     },
     "metadata": {
      "needs_background": "light"
     },
     "output_type": "display_data"
    }
   ],
   "source": [
    "plt.imshow(fitter.replay_memory.sample(1)[0][0][0])"
   ]
  },
  {
   "cell_type": "code",
   "execution_count": null,
   "metadata": {},
   "outputs": [],
   "source": []
  },
  {
   "cell_type": "code",
   "execution_count": null,
   "metadata": {},
   "outputs": [],
   "source": []
  }
 ],
 "metadata": {
  "kernelspec": {
   "display_name": "tf2",
   "language": "python",
   "name": "tf2"
  },
  "language_info": {
   "codemirror_mode": {
    "name": "ipython",
    "version": 3
   },
   "file_extension": ".py",
   "mimetype": "text/x-python",
   "name": "python",
   "nbconvert_exporter": "python",
   "pygments_lexer": "ipython3",
   "version": "3.6.8"
  }
 },
 "nbformat": 4,
 "nbformat_minor": 2
}
