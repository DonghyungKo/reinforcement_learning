{
 "cells": [
  {
   "cell_type": "code",
   "execution_count": 1,
   "metadata": {},
   "outputs": [],
   "source": [
    "import torch\n",
    "import torch.nn as nn\n",
    "\n",
    "# Import the gym module\n",
    "import gym\n",
    "import numpy as np\n",
    "import time \n",
    "\n",
    "from matplotlib import pyplot as plt\n",
    "\n",
    "import random\n",
    "\n",
    "import gym\n",
    "from IPython import display\n",
    "import matplotlib\n",
    "import matplotlib.pyplot as plt\n",
    "%matplotlib inline\n",
    "\n",
    "import cv2"
   ]
  },
  {
   "cell_type": "code",
   "execution_count": 2,
   "metadata": {},
   "outputs": [],
   "source": [
    "class NoopResetEnv(gym.Wrapper):\n",
    "    def __init__(self, env, noop_max=10):\n",
    "        '''첫 번째 트릭 No-Operation. 초기화 후 일정 단계에 이를때까지 아무 행동도 하지않고\n",
    "        게임 초기 상태를 다양하게 하여 특정 시작 상태만 학습하는 것을 방지한다'''\n",
    "\n",
    "        gym.Wrapper.__init__(self, env)\n",
    "        self.noop_max = noop_max\n",
    "        self.override_num_noops = None\n",
    "        self.noop_action = 0\n",
    "        assert env.unwrapped.get_action_meanings()[0] == 'NOOP'\n",
    "\n",
    "    def reset(self, **kwargs):\n",
    "        \"\"\" Do no-op action for a number of steps in [1, noop_max].\"\"\"\n",
    "        self.env.reset(**kwargs)\n",
    "        if self.override_num_noops is not None:\n",
    "            noops = self.override_num_noops\n",
    "        else:\n",
    "            noops = self.unwrapped.np_random.randint(\n",
    "                1, self.noop_max + 1)  # pylint: disable=E1101\n",
    "        assert noops > 0\n",
    "        obs = None\n",
    "        for _ in range(noops):\n",
    "            obs, _, done, _ = self.env.step(self.noop_action)\n",
    "            if done:\n",
    "                obs = self.env.reset(**kwargs)\n",
    "        return obs\n",
    "\n",
    "    def step(self, ac):\n",
    "        return self.env.step(ac)\n"
   ]
  },
  {
   "cell_type": "code",
   "execution_count": 3,
   "metadata": {},
   "outputs": [],
   "source": [
    "# Create a breakout environment\n",
    "env = gym.make('BreakoutNoFrameskip-v4')\n",
    "env = NoopResetEnv(env, noop_max=30)"
   ]
  },
  {
   "cell_type": "code",
   "execution_count": 4,
   "metadata": {},
   "outputs": [],
   "source": [
    "def preprocess(img):\n",
    "    img = cv2.cvtColor(img, cv2.COLOR_RGB2GRAY)\n",
    "    img = cv2.resize(img, (84, 84), interpolation=cv2.INTER_AREA)\n",
    "    return np.expand_dims(img, 0) # (1, 80, 80)"
   ]
  },
  {
   "cell_type": "code",
   "execution_count": 5,
   "metadata": {
    "scrolled": true
   },
   "outputs": [
    {
     "data": {
      "image/png": "[encoded data removed]",
      "text/plain": [
       "<Figure size 432x288 with 1 Axes>"
      ]
     },
     "metadata": {
      "needs_background": "light"
     },
     "output_type": "display_data"
    }
   ],
   "source": [
    "env.reset()\n",
    "img = plt.imshow(env.render(mode='rgb_array')) # only call this once\n",
    "for _ in range(30):\n",
    "    img.set_data(env.render(mode='rgb_array')) # just update the data\n",
    "    display.display(plt.gcf())\n",
    "    display.clear_output(wait=True)\n",
    "    action = env.action_space.sample()\n",
    "    env.step(action)"
   ]
  },
  {
   "cell_type": "code",
   "execution_count": 6,
   "metadata": {
    "scrolled": false
   },
   "outputs": [
    {
     "data": {
      "text/plain": [
       "<matplotlib.image.AxesImage at 0x7f5219f0dfd0>"
      ]
     },
     "execution_count": 6,
     "metadata": {},
     "output_type": "execute_result"
    },
    {
     "data": {
      "image/png": "[encoded data removed]",
      "text/plain": [
       "<Figure size 432x288 with 1 Axes>"
      ]
     },
     "metadata": {
      "needs_background": "light"
     },
     "output_type": "display_data"
    }
   ],
   "source": [
    "env.reset()\n",
    "for _ in range(30):\n",
    "    s, _, _, _ = env.step(env.action_space.sample())\n",
    "\n",
    "plt.imshow(preprocess(s)[0])"
   ]
  },
  {
   "cell_type": "code",
   "execution_count": 7,
   "metadata": {},
   "outputs": [],
   "source": [
    "from collections import deque\n",
    "import random \n",
    "\n",
    "class ReplayMemory(object):\n",
    "    def __init__(self, capacity):\n",
    "        self.deque = deque(maxlen=capacity)\n",
    "\n",
    "    def append(self, state, action, reward, next_state, done):\n",
    "        self.deque.append((state, action, reward, next_state, done))\n",
    "    \n",
    "    def sample(self, batch_size):\n",
    "        state, action, reward, next_state, done = zip(*random.sample(self.deque, batch_size))\n",
    "        return np.concatenate(state), action, reward, np.concatenate(next_state), done\n",
    "    \n",
    "    def __len__(self):\n",
    "        return len(self.deque)"
   ]
  },
  {
   "cell_type": "code",
   "execution_count": 8,
   "metadata": {},
   "outputs": [],
   "source": [
    "class FrameHistory(object):\n",
    "    # consecutive frame을 4개씩 병합하여 새로운 x를 하나씩 만드는 클래스\n",
    "    # 만들어진 x는 4개씩 concat하고 s를 만들어서 DQN의 input으로 들어감\n",
    "    def __init__(self, env, k=4):\n",
    "        self.state_deque = deque(maxlen=k) # [x1, x2, x3, x4]\n",
    "        self.frame_history_deque = deque(maxlen=k) #[s1, s2, s3, s4]\n",
    "        self.k = k\n",
    "        \n",
    "        # 최초에는 초기 화면(env.reset)으로 채워둠\n",
    "        self.env = env\n",
    "        self.initial_state = self.preprocess(self.env.reset())\n",
    "        self.reset()\n",
    "        \n",
    "    def preprocess(self, img):\n",
    "        img = cv2.cvtColor(img, cv2.COLOR_RGB2GRAY)\n",
    "        img = cv2.resize(img, (84, 84), interpolation=cv2.INTER_AREA)\n",
    "        return np.expand_dims(img, 0) # (1, 80, 80)\n",
    "    \n",
    "    def append_frame(self, s):\n",
    "        # if full, aggregate and clear old frames, append new frame to history queue\n",
    "        self.frame_history_deque.append(self.preprocess(s))\n",
    "        \n",
    "        if len(self) == self.k:\n",
    "            self.state_deque.append(self.aggregate_frame())\n",
    "        return\n",
    "        \n",
    "    def aggregate_frame(self):\n",
    "        if len(self) < self.k:\n",
    "            raise ValueError('not enough frames in history, expected %s, but got %s'%(self.k, len(self)))\n",
    "        \n",
    "        # element-wise maximum to aggregate\n",
    "        frame_history = [self.frame_history_deque.popleft() for _ in range(self.k)]\n",
    "        return np.maximum.reduce(frame_history[-2:]) #마지막 2 프레임 사용 \n",
    "    \n",
    "    def get_state(self):\n",
    "        S = np.array([self.state_deque[i] for i in range(self.k)]) # S = [x1, x2, x3, x4], (4, 1, 80, 80)\n",
    "        S = np.swapaxes(S, 0, 1) # (1, 4, 80, 80)\n",
    "        return S\n",
    "    \n",
    "    def reset(self):\n",
    "        self.frame_history_deque = deque(maxlen=k)\n",
    "        self.state_deque = deque(maxlen=k)\n",
    "        \n",
    "        for _ in range(self.k):\n",
    "            self.state_deque.append(self.initial_state)\n",
    "    \n",
    "    def __len__(self):\n",
    "        return len(self.frame_history_deque)"
   ]
  },
  {
   "cell_type": "code",
   "execution_count": 9,
   "metadata": {},
   "outputs": [],
   "source": [
    "class DQN(nn.Module):\n",
    "    def __init__(self, in_dim, n_action):\n",
    "        super(DQN, self).__init__()\n",
    "        self.device = torch.device('cuda:0' if torch.cuda.is_available() else 'cpu')\n",
    "        \n",
    "        self.conv = nn.Sequential(\n",
    "            nn.Conv2d(in_dim, 32, (8, 8), stride=4), nn.ReLU(), # conv 1\n",
    "            nn.Conv2d(32, 64, (4, 4), stride=2), nn.ReLU(), # conv 2\n",
    "            nn.Conv2d(64, 64, (3, 3), stride=1), nn.ReLU() # conv 3\n",
    "        )\n",
    "        self.fc = nn.Sequential(\n",
    "            nn.Linear(64*7*7, 512), nn.ReLU(), # hidden layer\n",
    "            nn.Linear(512, n_action)\n",
    "        )\n",
    "        \n",
    "    def to_tensor(self, img):\n",
    "        img = torch.tensor(img, dtype=torch.float32, device=self.device).cuda(non_blocking=True) # to tensor\n",
    "        img /= 255                                   # normalize into 0-1\n",
    "        while img.dim() < 4 :                        # 4-dim\n",
    "            img = img.unsqueeze(0)\n",
    "        return img\n",
    "        \n",
    "    def forward(self, frames):\n",
    "        frames = self.to_tensor(frames) \n",
    "        conved = self.conv(frames)\n",
    "        conved = conved.view(conved.size(0), -1)\n",
    "        output = self.fc(conved)\n",
    "        return output"
   ]
  },
  {
   "cell_type": "code",
   "execution_count": 10,
   "metadata": {},
   "outputs": [],
   "source": [
    "import torch.nn.init as init\n",
    "\n",
    "def weight_init(m):\n",
    "    '''\n",
    "    Usage:\n",
    "        model = Model()\n",
    "        model.apply(weight_init)\n",
    "    '''\n",
    "    if isinstance(m, nn.Conv2d):\n",
    "        init.xavier_normal_(m.weight.data)\n",
    "        if m.bias is not None:\n",
    "            init.normal_(m.bias.data)\n",
    "\n",
    "    elif isinstance(m, nn.Linear):\n",
    "        init.xavier_normal_(m.weight.data)\n",
    "        init.normal_(m.bias.data)\n",
    "    return"
   ]
  },
  {
   "cell_type": "code",
   "execution_count": 11,
   "metadata": {},
   "outputs": [
    {
     "data": {
      "text/plain": [
       "DQN(\n",
       "  (conv): Sequential(\n",
       "    (0): Conv2d(4, 32, kernel_size=(8, 8), stride=(4, 4))\n",
       "    (1): ReLU()\n",
       "    (2): Conv2d(32, 64, kernel_size=(4, 4), stride=(2, 2))\n",
       "    (3): ReLU()\n",
       "    (4): Conv2d(64, 64, kernel_size=(3, 3), stride=(1, 1))\n",
       "    (5): ReLU()\n",
       "  )\n",
       "  (fc): Sequential(\n",
       "    (0): Linear(in_features=3136, out_features=512, bias=True)\n",
       "    (1): ReLU()\n",
       "    (2): Linear(in_features=512, out_features=4, bias=True)\n",
       "  )\n",
       ")"
      ]
     },
     "execution_count": 11,
     "metadata": {},
     "output_type": "execute_result"
    }
   ],
   "source": [
    "#############\n",
    "k = 4 ## number of skipped frame\n",
    "#############\n",
    "\n",
    "behavior_net = DQN(in_dim=k, n_action=4)\n",
    "target_net = DQN(in_dim=k, n_action=4)\n",
    "\n",
    "behavior_net.to(behavior_net.device) # model to cuda\n",
    "target_net.to(target_net.device)     # model to cuda\n",
    "\n",
    "behavior_net.apply(weight_init)\n",
    "target_net.apply(weight_init)"
   ]
  },
  {
   "cell_type": "code",
   "execution_count": 12,
   "metadata": {},
   "outputs": [],
   "source": [
    "def grow_batch_size(current_memory, max_memory):\n",
    "    # grow batch size from 32 to 64 as respect to memory size\n",
    "    memory_ratio = current_memory / max_memory\n",
    "    new_batch_size = int(32 + 32*memory_ratio)\n",
    "    return new_batch_size"
   ]
  },
  {
   "cell_type": "code",
   "execution_count": 13,
   "metadata": {},
   "outputs": [],
   "source": [
    "class Fitter():\n",
    "    def __init__(self, env, behavior_net, target_net, k=4, train_method='DQN'):\n",
    "        self.env = env\n",
    "        self.train_method = train_method\n",
    "        self.device = 'cuda:0' if torch.cuda.is_available() else 'cpu'\n",
    "\n",
    "        # networks\n",
    "        self.behavior_net = behavior_net\n",
    "        self.target_net = target_net\n",
    "        self.behavior_net.to(self.behavior_net.device) # model to cuda\n",
    "        self.target_net.to(self.target_net.device)     # model to cuda\n",
    "        \n",
    "        # train parameters\n",
    "        self.gamma = 0.99 #as written in paper\n",
    "        self.criterion = nn.SmoothL1Loss() # huber loss (error-clipping)\n",
    "        self.optim = torch.optim.RMSprop(self.behavior_net.parameters(), lr=0.00025, alpha=0.95, eps=0.01) #as written in paper in Rainbow\n",
    "        self.k = k\n",
    "        \n",
    "        # train details\n",
    "        self.total_frame = 0\n",
    "        self.total_episode = 0\n",
    "        \n",
    "        self.test_e = 0.05\n",
    "        self.batch_size = 32\n",
    "        self.max_replay = 250000 # not as written in paper\n",
    "        self.min_replay = 50000 # not as written in the paper\n",
    "        self.replay_memory = ReplayMemory(self.max_replay)\n",
    "        self.frame_history = FrameHistory(env=self.env, k=self.k)\n",
    "        \n",
    "        self.train_reward_ls = []\n",
    "        self.test_reward_ls = []\n",
    "    \n",
    "    # train-epsilon\n",
    "    @property\n",
    "    def train_e(self):\n",
    "        return np.max([1 - 9.0*1e-07*self.total_frame, 0.1])\n",
    "    \n",
    "    \n",
    "    def reset_episode(self):\n",
    "        # game(episode) begins\n",
    "        self.env.reset()  \n",
    "        self.frame_history.reset() #frame history reset\n",
    "        self.current_episode_frame = 0         # each episode의 frame 수 \n",
    "        self.current_episode_reward = 0        # each episode의 reward 합\n",
    "        self.current_life = 5\n",
    "    \n",
    "    def choose_action(self, S, is_training=True):\n",
    "        if is_training:\n",
    "            epsilon = self.train_e\n",
    "        else:\n",
    "            epsilon = self.test_e\n",
    "        \n",
    "        # at the beginning of an episode, do something\n",
    "        if self.current_episode_frame == 0:\n",
    "            a = 1\n",
    "        else:\n",
    "            # Choose an action by e-greedy\n",
    "            if np.random.rand(1) < epsilon :\n",
    "                a = self.env.action_space.sample()\n",
    "            else:\n",
    "                q_behavior = self.behavior_net(S)\n",
    "                a = torch.argmax(q_behavior).item()\n",
    "        return a\n",
    "    \n",
    "    \n",
    "    def run_k_frames(self, is_training=True):\n",
    "        # choose action!\n",
    "        S = self.frame_history.get_state()\n",
    "        a = self.choose_action(S, is_training=is_training)\n",
    "        r_sum = 0\n",
    "        \n",
    "        # repeat the action k-times\n",
    "        for _ in range(self.k):\n",
    "            s_next, r, done, info = self.env.step(a)\n",
    "            self.frame_history.append_frame(s_next)\n",
    "            r_sum += self.clip_reward(r) # store clipped reward for future training replay(experience)\n",
    "            \n",
    "            # accumulate history\n",
    "            self.current_episode_frame += 1\n",
    "            self.current_episode_reward += r\n",
    "            \n",
    "            # if episode(game) ends, return done(True)\n",
    "            if done: \n",
    "                return done\n",
    "                \n",
    "        # Terminal when lose life\n",
    "        if info['ale.lives'] < self.current_life:\n",
    "            self.current_life = info['ale.lives']\n",
    "            done = True\n",
    "            \n",
    "        # concat last k-frames into a next state S_next\n",
    "        S_next = self.frame_history.get_state()\n",
    "        self.replay_memory.append(S, a, r_sum, S_next, done) # save replay(experience)\n",
    "        return done\n",
    "\n",
    "    \n",
    "    def train(self, max_total_frame):\n",
    "        while self.total_frame < max_total_frame :\n",
    "            # episode starts!\n",
    "            self.reset_episode()\n",
    "            \n",
    "            done = False\n",
    "            while not done:\n",
    "                done = self.run_k_frames(is_training=True)\n",
    "                \n",
    "                # training when enough replay-memory, every k-frames\n",
    "                if len(self.replay_memory) > self.min_replay:\n",
    "                    self.train_batch(self.batch_size)   \n",
    "                    self.total_frame += self.k\n",
    "                    \n",
    "                    # update target_net every 10,000 updates\n",
    "                    if self.total_frame%(self.k*10000)== 0 :\n",
    "                        self.update_target()\n",
    "                \n",
    "            # single-episode(game) is now done\n",
    "            # if not enough memory, save more\n",
    "            if len(self.replay_memory) < self.min_replay:\n",
    "                print('Not enough replay yet, expected more than %s, but %s instead'%(self.min_replay, len(self.replay_memory)))\n",
    "            \n",
    "            # if enough memory, print train result\n",
    "            else:\n",
    "                print('Train Episode :%s, Total Frame : %s, Train reward : %s,'%(self.total_episode, self.total_frame, self.current_episode_reward))\n",
    "                self.total_episode += 1\n",
    "                self.train_reward_ls.append(self.current_episode_reward)\n",
    "            \n",
    "                # testing, every 10 episodes when enough replay\n",
    "                if self.total_episode%10 == 0:\n",
    "                    self.test()           \n",
    "\n",
    "    def train_batch(self, batch_size):\n",
    "        # get mini-batch from replay-memory\n",
    "        S, A, R, S_next, D = self.replay_memory.sample(batch_size)\n",
    "        A = self.to_tensor(A, dtype=torch.long)\n",
    "        R = self.to_tensor(R, dtype=torch.float32)\n",
    "        D = self.to_tensor(D, dtype=torch.float32)\n",
    "        \n",
    "        q_behaviors = self.behavior_net(S)                # Q-values for every possible actions\n",
    "        q_behavior = self.select_indices(q_behaviors, A) # select Q-value for given actions\n",
    "        \n",
    "        if self.train_method=='DQN':\n",
    "            q_targets_next = self.target_net(S_next)   # Q-values of every possible actions next state (targetDQN)\n",
    "            q_target_next = q_targets_next.max(1)[0]   # max Q-values of next state\n",
    "            q_target = R + self.gamma*q_target_next*(1-D) \n",
    "        \n",
    "        elif self.train_method=='DoubleDQN':\n",
    "            next_actions = torch.argmax(self.behavior_net(S_next), dim=1) # choose argmax behavior actions at S_next\n",
    "            \n",
    "            q_targets_next = self.target_net(S_next) # cal Q-values of every possible actions next state (targetDQN)\n",
    "            q_target_next = self.select_indices(q_targets_next, next_actions) # select Q-value for next behavior actions\n",
    "            q_target = R + self.gamma*q_target_next*(1-D)\n",
    "        \n",
    "        # update weights\n",
    "        self.optim.zero_grad()\n",
    "        loss = self.criterion(q_target, q_behavior)\n",
    "        loss.backward()\n",
    "        self.optim.step()\n",
    "        return\n",
    "        \n",
    "    def to_tensor(self, x, dtype=torch.float):\n",
    "        return torch.tensor(x, dtype=dtype, device=self.device)\n",
    "    \n",
    "    def select_indices(self, tensor, indices, dim=1):\n",
    "        if type(indices) != torch.Tensor:\n",
    "            indices = self.to_tensor(indices, dtype=torch.long)\n",
    "        if indices.dim() < 2 :\n",
    "            indices = indices.unsqueeze(1)\n",
    "        return tensor.gather(dim, indices).squeeze(1)\n",
    "    \n",
    "    def clip_reward(self, r):\n",
    "        return np.sign(r)\n",
    "    \n",
    "    \n",
    "    def update_target(self):\n",
    "        print('Update Target')\n",
    "        self.target_net.load_state_dict(self.behavior_net.state_dict())\n",
    "        return \n",
    "    \n",
    "    def test(self):\n",
    "        self.reset_episode()\n",
    "        done=False\n",
    "        while not done:\n",
    "            done = self.run_k_frames(is_training=False) # e-greedy\n",
    "                \n",
    "        self.test_reward_ls.append(self.current_episode_reward)\n",
    "        print('※Test※ \\t Frames: %s \\t Score: %s'%(self.current_episode_frame, self.current_episode_reward))\n",
    "        return"
   ]
  },
  {
   "cell_type": "code",
   "execution_count": 14,
   "metadata": {},
   "outputs": [],
   "source": [
    "fitter = Fitter(env, behavior_net, target_net, k=k, train_method='DoubleDQN')"
   ]
  },
  {
   "cell_type": "code",
   "execution_count": null,
   "metadata": {
    "scrolled": true
   },
   "outputs": [
    {
     "name": "stdout",
     "output_type": "stream",
     "text": [
      "Train Episode :8808, Total Frame : 12553648, Train reward : 44.0,\n",
      "Train Episode :8809, Total Frame : 12556944, Train reward : 25.0,\n",
      "※Test※ \t Frames: 4018 \t Score: 45.0\n",
      "Update Target\n",
      "Train Episode :8810, Total Frame : 12560344, Train reward : 29.0,\n",
      "Train Episode :8811, Total Frame : 12563848, Train reward : 54.0,\n",
      "Train Episode :8812, Total Frame : 12566948, Train reward : 21.0,\n",
      "Train Episode :8813, Total Frame : 12571264, Train reward : 33.0,\n",
      "Train Episode :8814, Total Frame : 12573560, Train reward : 14.0,\n",
      "Train Episode :8815, Total Frame : 12576276, Train reward : 17.0,\n",
      "Train Episode :8816, Total Frame : 12580656, Train reward : 40.0,\n",
      "Train Episode :8817, Total Frame : 12584500, Train reward : 41.0,\n"
     ]
    }
   ],
   "source": [
    "max_frame = 50000000\n",
    "fitter.train(max_frame)"
   ]
  },
  {
   "cell_type": "code",
   "execution_count": 55,
   "metadata": {},
   "outputs": [
    {
     "data": {
      "text/plain": [
       "[<matplotlib.lines.Line2D at 0x7f5175683e10>]"
      ]
     },
     "execution_count": 55,
     "metadata": {},
     "output_type": "execute_result"
    },
    {
     "data": {
      "image/png": "[encoded data removed]",
      "text/plain": [
       "<Figure size 432x288 with 1 Axes>"
      ]
     },
     "metadata": {
      "needs_background": "light"
     },
     "output_type": "display_data"
    }
   ],
   "source": [
    "plt.plot(fitter.train_reward_ls)"
   ]
  },
  {
   "cell_type": "code",
   "execution_count": 56,
   "metadata": {},
   "outputs": [
    {
     "data": {
      "text/plain": [
       "[<matplotlib.lines.Line2D at 0x7f51759af1d0>]"
      ]
     },
     "execution_count": 56,
     "metadata": {},
     "output_type": "execute_result"
    },
    {
     "data": {
      "image/png": "[encoded data removed]",
      "text/plain": [
       "<Figure size 432x288 with 1 Axes>"
      ]
     },
     "metadata": {
      "needs_background": "light"
     },
     "output_type": "display_data"
    }
   ],
   "source": [
    "plt.plot(fitter.test_reward_ls)"
   ]
  },
  {
   "cell_type": "code",
   "execution_count": 44,
   "metadata": {},
   "outputs": [
    {
     "name": "stdout",
     "output_type": "stream",
     "text": [
      "tensor([[1.7239, 1.7173, 1.7252, 1.7148]], device='cuda:0')\n",
      "tensor([[2.2195, 2.1677, 2.1891, 2.1987]], device='cuda:0')\n",
      "tensor([[0.9198, 0.9307, 0.9394, 0.9479]], device='cuda:0')\n",
      "tensor([[0.9302, 0.9200, 0.9502, 0.9611]], device='cuda:0')\n",
      "tensor([[1.9989, 1.9544, 1.9530, 1.9342]], device='cuda:0')\n",
      "tensor([[1.2080, 1.1784, 1.1714, 1.1706]], device='cuda:0')\n",
      "tensor([[2.0933, 2.0742, 2.0794, 2.0581]], device='cuda:0')\n",
      "tensor([[1.0827, 1.0755, 1.1018, 1.0867]], device='cuda:0')\n",
      "tensor([[1.8429, 1.8347, 1.8185, 1.8333]], device='cuda:0')\n",
      "tensor([[2.0499, 2.0486, 2.0030, 2.0066]], device='cuda:0')\n",
      "tensor([[1.1547, 1.1345, 1.1226, 1.1424]], device='cuda:0')\n",
      "tensor([[1.3080, 1.2970, 1.3057, 1.3108]], device='cuda:0')\n",
      "tensor([[1.3677, 1.3619, 1.3637, 1.3799]], device='cuda:0')\n",
      "tensor([[1.0663, 1.1959, 1.1700, 1.1508]], device='cuda:0')\n",
      "tensor([[1.9569, 1.9816, 2.0096, 1.9923]], device='cuda:0')\n",
      "tensor([[1.7099, 1.7125, 1.7117, 1.6947]], device='cuda:0')\n",
      "tensor([[1.0806, 1.0825, 1.0941, 1.1031]], device='cuda:0')\n",
      "tensor([[1.6484, 1.6405, 1.6376, 1.6465]], device='cuda:0')\n",
      "tensor([[0.9817, 1.0063, 1.0010, 1.0133]], device='cuda:0')\n",
      "tensor([[1.0085, 1.0028, 1.0136, 1.0073]], device='cuda:0')\n",
      "tensor([[1.0597, 1.0775, 1.0588, 1.0694]], device='cuda:0')\n",
      "tensor([[0.7975, 0.8254, 0.8115, 0.8001]], device='cuda:0')\n",
      "tensor([[1.2161, 1.2183, 1.2440, 1.2119]], device='cuda:0')\n",
      "tensor([[0.9518, 1.0083, 1.0256, 1.0186]], device='cuda:0')\n",
      "tensor([[1.2761, 1.2576, 1.2500, 1.2888]], device='cuda:0')\n",
      "tensor([[1.2085, 1.2026, 1.2208, 1.2136]], device='cuda:0')\n",
      "tensor([[1.6526, 1.6351, 1.6381, 1.6200]], device='cuda:0')\n",
      "tensor([[1.1577, 1.1366, 1.1376, 1.1588]], device='cuda:0')\n",
      "tensor([[2.2528, 2.2279, 2.2095, 2.2019]], device='cuda:0')\n",
      "tensor([[1.5110, 1.4971, 1.5051, 1.4771]], device='cuda:0')\n",
      "tensor([[1.8278, 1.8208, 1.7618, 1.8112]], device='cuda:0')\n",
      "tensor([[1.7631, 1.7339, 1.7105, 1.7329]], device='cuda:0')\n",
      "tensor([[1.3009, 1.2860, 1.3236, 1.2662]], device='cuda:0')\n",
      "tensor([[1.0561, 1.0335, 1.0650, 1.0792]], device='cuda:0')\n",
      "tensor([[1.5950, 1.5464, 1.5734, 1.5564]], device='cuda:0')\n",
      "tensor([[2.0615, 2.0103, 1.9918, 2.0246]], device='cuda:0')\n",
      "tensor([[1.1267, 1.1214, 1.1220, 1.1076]], device='cuda:0')\n",
      "tensor([[1.9042, 1.8963, 1.8638, 1.9077]], device='cuda:0')\n",
      "tensor([[1.6152, 1.6349, 1.6526, 1.6421]], device='cuda:0')\n",
      "tensor([[1.1981, 1.1935, 1.1975, 1.2219]], device='cuda:0')\n",
      "tensor([[1.4905, 1.5078, 1.4927, 1.5288]], device='cuda:0')\n",
      "tensor([[1.2521, 1.2569, 1.2687, 1.2599]], device='cuda:0')\n",
      "tensor([[1.3475, 1.3425, 1.3571, 1.3685]], device='cuda:0')\n",
      "tensor([[0.9027, 0.9185, 0.9331, 0.9162]], device='cuda:0')\n",
      "tensor([[1.2162, 1.2200, 1.2092, 1.2309]], device='cuda:0')\n",
      "tensor([[1.7461, 1.7318, 1.6736, 1.6735]], device='cuda:0')\n",
      "tensor([[1.9318, 1.9115, 1.9368, 1.9351]], device='cuda:0')\n",
      "tensor([[1.4971, 1.4609, 1.4779, 1.4503]], device='cuda:0')\n",
      "tensor([[1.5547, 1.4950, 1.4810, 1.4817]], device='cuda:0')\n",
      "tensor([[1.1697, 1.1672, 1.1679, 1.1972]], device='cuda:0')\n",
      "tensor([[1.2957, 1.2769, 1.2585, 1.2945]], device='cuda:0')\n",
      "tensor([[1.0540, 1.0374, 1.0332, 1.0490]], device='cuda:0')\n",
      "tensor([[1.5780, 1.5691, 1.5413, 1.5793]], device='cuda:0')\n",
      "tensor([[1.3147, 1.2973, 1.2905, 1.2894]], device='cuda:0')\n",
      "tensor([[1.1222, 1.1150, 1.1673, 1.1125]], device='cuda:0')\n",
      "tensor([[1.5929, 1.5558, 1.5568, 1.5685]], device='cuda:0')\n",
      "tensor([[2.0752, 2.0389, 2.0530, 2.0596]], device='cuda:0')\n",
      "tensor([[1.3454, 1.3364, 1.3878, 1.3267]], device='cuda:0')\n",
      "tensor([[1.2075, 1.1886, 1.2174, 1.2143]], device='cuda:0')\n",
      "tensor([[1.3031, 1.3081, 1.3115, 1.3096]], device='cuda:0')\n",
      "tensor([[2.2725, 2.2745, 2.2876, 2.1901]], device='cuda:0')\n",
      "tensor([[2.0204, 1.9977, 1.9984, 1.9991]], device='cuda:0')\n",
      "tensor([[1.0622, 1.0824, 1.0966, 1.0963]], device='cuda:0')\n",
      "tensor([[1.3489, 1.3064, 1.3071, 1.3476]], device='cuda:0')\n",
      "tensor([[2.0045, 1.9980, 2.0107, 1.9665]], device='cuda:0')\n",
      "tensor([[1.2552, 1.2351, 1.2510, 1.2242]], device='cuda:0')\n",
      "tensor([[1.2398, 1.2221, 1.2314, 1.2166]], device='cuda:0')\n",
      "tensor([[2.1776, 2.1605, 2.1311, 2.1153]], device='cuda:0')\n",
      "tensor([[1.2357, 1.2071, 1.2423, 1.2093]], device='cuda:0')\n",
      "tensor([[1.7916, 1.7873, 1.7234, 1.7717]], device='cuda:0')\n",
      "tensor([[1.1001, 1.0945, 1.1117, 1.0849]], device='cuda:0')\n",
      "tensor([[1.2016, 1.1673, 1.2134, 1.2113]], device='cuda:0')\n",
      "tensor([[1.8151, 1.7961, 1.8114, 1.8170]], device='cuda:0')\n",
      "tensor([[1.1624, 1.1385, 1.1415, 1.1439]], device='cuda:0')\n",
      "tensor([[1.7133, 1.6975, 1.7104, 1.6957]], device='cuda:0')\n",
      "tensor([[1.7658, 1.7422, 1.7507, 1.7387]], device='cuda:0')\n",
      "tensor([[1.1188, 1.1323, 1.1100, 1.1330]], device='cuda:0')\n",
      "tensor([[1.4598, 1.4414, 1.4846, 1.4379]], device='cuda:0')\n",
      "tensor([[0.9760, 0.9516, 0.9831, 0.9570]], device='cuda:0')\n",
      "tensor([[1.0738, 1.0762, 1.0908, 1.0861]], device='cuda:0')\n",
      "tensor([[1.0850, 1.0802, 1.1078, 1.0742]], device='cuda:0')\n",
      "tensor([[1.6187, 1.6209, 1.6350, 1.6070]], device='cuda:0')\n",
      "tensor([[1.4763, 1.4273, 1.5065, 1.4256]], device='cuda:0')\n",
      "tensor([[1.3157, 1.3014, 1.3077, 1.3380]], device='cuda:0')\n",
      "tensor([[1.3321, 1.3144, 1.3066, 1.3410]], device='cuda:0')\n",
      "tensor([[2.1280, 2.1378, 2.1245, 2.0894]], device='cuda:0')\n",
      "tensor([[1.2204, 1.2244, 1.2166, 1.2121]], device='cuda:0')\n",
      "tensor([[2.0662, 2.0450, 2.0408, 2.0445]], device='cuda:0')\n",
      "tensor([[1.3924, 1.3778, 1.3618, 1.3473]], device='cuda:0')\n",
      "tensor([[1.2686, 1.2679, 1.2625, 1.2612]], device='cuda:0')\n",
      "tensor([[1.1270, 1.1363, 1.1371, 1.1385]], device='cuda:0')\n",
      "tensor([[1.7416, 1.7268, 1.7625, 1.7356]], device='cuda:0')\n",
      "tensor([[1.8261, 1.8142, 1.8083, 1.8179]], device='cuda:0')\n",
      "tensor([[1.8793, 1.8701, 1.8936, 1.8768]], device='cuda:0')\n",
      "tensor([[1.2707, 1.2628, 1.2470, 1.3012]], device='cuda:0')\n",
      "tensor([[1.4414, 1.3931, 1.4184, 1.3917]], device='cuda:0')\n",
      "tensor([[1.9552, 1.9420, 1.9621, 1.9481]], device='cuda:0')\n",
      "tensor([[0.9880, 1.0085, 1.0166, 1.0109]], device='cuda:0')\n",
      "tensor([[1.4687, 1.4288, 1.4316, 1.4564]], device='cuda:0')\n",
      "tensor([[1.6669, 1.6670, 1.6840, 1.6225]], device='cuda:0')\n"
     ]
    },
    {
     "data": {
      "text/plain": [
       "Counter({2: 33, 0: 39, 3: 22, 1: 6})"
      ]
     },
     "execution_count": 44,
     "metadata": {},
     "output_type": "execute_result"
    },
    {
     "data": {
      "image/png": "[encoded data removed]",
      "text/plain": [
       "<Figure size 432x288 with 1 Axes>"
      ]
     },
     "metadata": {
      "needs_background": "light"
     },
     "output_type": "display_data"
    }
   ],
   "source": [
    "from collections import Counter\n",
    "\n",
    "ls = []\n",
    "S_ls = []\n",
    "for _ in range(100):\n",
    "    S = fitter.replay_memory.sample(1)[0][0]\n",
    "    print(fitter.behavior_net(S).data)\n",
    "    #print(fitter.behavior_net(S).argmax().item())\n",
    "    ls.append(fitter.behavior_net(S).argmax().item())\n",
    "    #plt.imshow(S[3])\n",
    "plt.imshow(S[0])\n",
    "Counter(ls)"
   ]
  },
  {
   "cell_type": "code",
   "execution_count": null,
   "metadata": {},
   "outputs": [],
   "source": []
  }
 ],
 "metadata": {
  "kernelspec": {
   "display_name": "tf2",
   "language": "python",
   "name": "tf2"
  }
 },
 "nbformat": 4,
 "nbformat_minor": 2
}
